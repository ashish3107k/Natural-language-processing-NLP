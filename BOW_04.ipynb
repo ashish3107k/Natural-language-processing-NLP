{
  "cells": [
    {
      "cell_type": "code",
      "execution_count": null,
      "id": "17ed1e65",
      "metadata": {
        "id": "17ed1e65"
      },
      "outputs": [],
      "source": [
        "paragraph = \"\"\"'Thank you all so very much. Thank you to the Academy. Thank you to all of you in this room. I have to congratulate the other incredible nominees this year. The Revenant was the product of the tireless efforts of an unbelievable cast and crew. First off, to my brother in this endeavor, Mr. Tom Hardy. Tom, your talent on screen can only be surpassed by your friendship off screen … thank you for creating a transcendent cinematic experience. Thank you to everybody at Fox and New Regency … my entire team. I have to thank everyone from the very onset of my career … To my parents; none of this would be possible without you. And to my friends, I love you dearly; you know who you are.'\"\"\""
      ]
    },
    {
      "cell_type": "code",
      "execution_count": null,
      "id": "5f0c0f8d",
      "metadata": {
        "id": "5f0c0f8d",
        "outputId": "a6a95502-44e8-4382-d0ac-a58b107bb2a8"
      },
      "outputs": [
        {
          "data": {
            "text/plain": [
              "\"'Thank you all so very much. Thank you to the Academy. Thank you to all of you in this room. I have to congratulate the other incredible nominees this year. The Revenant was the product of the tireless efforts of an unbelievable cast and crew. First off, to my brother in this endeavor, Mr. Tom Hardy. Tom, your talent on screen can only be surpassed by your friendship off screen … thank you for creating a transcendent cinematic experience. Thank you to everybody at Fox and New Regency … my entire team. I have to thank everyone from the very onset of my career … To my parents; none of this would be possible without you. And to my friends, I love you dearly; you know who you are.'\""
            ]
          },
          "execution_count": 2,
          "metadata": {},
          "output_type": "execute_result"
        }
      ],
      "source": [
        "paragraph"
      ]
    },
    {
      "cell_type": "code",
      "execution_count": null,
      "id": "433ca5f6",
      "metadata": {
        "id": "433ca5f6"
      },
      "outputs": [],
      "source": [
        "import re\n",
        "import nltk"
      ]
    },
    {
      "cell_type": "code",
      "execution_count": null,
      "id": "f4111c0f",
      "metadata": {
        "id": "f4111c0f"
      },
      "outputs": [],
      "source": [
        "dataset = nltk.sent_tokenize(paragraph)"
      ]
    },
    {
      "cell_type": "code",
      "execution_count": null,
      "id": "2c31df8d",
      "metadata": {
        "id": "2c31df8d",
        "outputId": "113181af-892f-43c1-d581-cf385e3a64c3"
      },
      "outputs": [
        {
          "data": {
            "text/plain": [
              "[\"'Thank you all so very much.\",\n",
              " 'Thank you to the Academy.',\n",
              " 'Thank you to all of you in this room.',\n",
              " 'I have to congratulate the other incredible nominees this year.',\n",
              " 'The Revenant was the product of the tireless efforts of an unbelievable cast and crew.',\n",
              " 'First off, to my brother in this endeavor, Mr. Tom Hardy.',\n",
              " 'Tom, your talent on screen can only be surpassed by your friendship off screen … thank you for creating a transcendent cinematic experience.',\n",
              " 'Thank you to everybody at Fox and New Regency … my entire team.',\n",
              " 'I have to thank everyone from the very onset of my career … To my parents; none of this would be possible without you.',\n",
              " \"And to my friends, I love you dearly; you know who you are.'\"]"
            ]
          },
          "execution_count": 5,
          "metadata": {},
          "output_type": "execute_result"
        }
      ],
      "source": [
        "dataset"
      ]
    },
    {
      "cell_type": "code",
      "execution_count": null,
      "id": "ea877ee6",
      "metadata": {
        "id": "ea877ee6",
        "outputId": "df80130e-625d-493a-85f2-ed6b00795e5b"
      },
      "outputs": [
        {
          "data": {
            "text/plain": [
              "10"
            ]
          },
          "execution_count": 6,
          "metadata": {},
          "output_type": "execute_result"
        }
      ],
      "source": [
        "len(dataset)"
      ]
    },
    {
      "cell_type": "code",
      "execution_count": null,
      "id": "c881f932",
      "metadata": {
        "id": "c881f932"
      },
      "outputs": [],
      "source": [
        "for i in range (len(dataset)):\n",
        "    dataset[i] = dataset[i].lower()\n",
        "    dataset[i] = re.sub(r'\\W',' ',dataset[i])\n",
        "    dataset[i] = re.sub(r'\\s+',' ',dataset[i])\n",
        "    dataset[i] = re.sub(r'^\\s+|\\s$','',dataset[i])"
      ]
    },
    {
      "cell_type": "code",
      "execution_count": null,
      "id": "efe0ac07",
      "metadata": {
        "id": "efe0ac07",
        "outputId": "0bbd3ccc-f641-4e0a-9eb2-496aa584d17c"
      },
      "outputs": [
        {
          "data": {
            "text/plain": [
              "['thank you all so very much',\n",
              " 'thank you to the academy',\n",
              " 'thank you to all of you in this room',\n",
              " 'i have to congratulate the other incredible nominees this year',\n",
              " 'the revenant was the product of the tireless efforts of an unbelievable cast and crew',\n",
              " 'first off to my brother in this endeavor mr tom hardy',\n",
              " 'tom your talent on screen can only be surpassed by your friendship off screen thank you for creating a transcendent cinematic experience',\n",
              " 'thank you to everybody at fox and new regency my entire team',\n",
              " 'i have to thank everyone from the very onset of my career to my parents none of this would be possible without you',\n",
              " 'and to my friends i love you dearly you know who you are']"
            ]
          },
          "execution_count": 17,
          "metadata": {},
          "output_type": "execute_result"
        }
      ],
      "source": [
        "dataset"
      ]
    },
    {
      "cell_type": "code",
      "execution_count": null,
      "id": "0949d99c",
      "metadata": {
        "id": "0949d99c"
      },
      "outputs": [],
      "source": [
        "word2count={}\n",
        "for data in dataset:\n",
        "    words = nltk.word_tokenize(data)\n",
        "    for word in words: \n",
        "        if word not in word2count.keys():\n",
        "            word2count[word]=1\n",
        "        else:\n",
        "            word2count[word]+=1"
      ]
    },
    {
      "cell_type": "code",
      "execution_count": null,
      "id": "1acc2c51",
      "metadata": {
        "id": "1acc2c51",
        "outputId": "9f36c5fe-9eaf-41b3-b766-12cbfb887e5b"
      },
      "outputs": [
        {
          "data": {
            "text/plain": [
              "{'thank': 6,\n",
              " 'you': 10,\n",
              " 'all': 2,\n",
              " 'so': 1,\n",
              " 'very': 2,\n",
              " 'much': 1,\n",
              " 'to': 8,\n",
              " 'the': 6,\n",
              " 'academy': 1,\n",
              " 'of': 5,\n",
              " 'in': 2,\n",
              " 'this': 4,\n",
              " 'room': 1,\n",
              " 'i': 3,\n",
              " 'have': 2,\n",
              " 'congratulate': 1,\n",
              " 'other': 1,\n",
              " 'incredible': 1,\n",
              " 'nominees': 1,\n",
              " 'year': 1,\n",
              " 'revenant': 1,\n",
              " 'was': 1,\n",
              " 'product': 1,\n",
              " 'tireless': 1,\n",
              " 'efforts': 1,\n",
              " 'an': 1,\n",
              " 'unbelievable': 1,\n",
              " 'cast': 1,\n",
              " 'and': 3,\n",
              " 'crew': 1,\n",
              " 'first': 1,\n",
              " 'off': 2,\n",
              " 'my': 5,\n",
              " 'brother': 1,\n",
              " 'endeavor': 1,\n",
              " 'mr': 1,\n",
              " 'tom': 2,\n",
              " 'hardy': 1,\n",
              " 'your': 2,\n",
              " 'talent': 1,\n",
              " 'on': 1,\n",
              " 'screen': 2,\n",
              " 'can': 1,\n",
              " 'only': 1,\n",
              " 'be': 2,\n",
              " 'surpassed': 1,\n",
              " 'by': 1,\n",
              " 'friendship': 1,\n",
              " 'for': 1,\n",
              " 'creating': 1,\n",
              " 'a': 1,\n",
              " 'transcendent': 1,\n",
              " 'cinematic': 1,\n",
              " 'experience': 1,\n",
              " 'everybody': 1,\n",
              " 'at': 1,\n",
              " 'fox': 1,\n",
              " 'new': 1,\n",
              " 'regency': 1,\n",
              " 'entire': 1,\n",
              " 'team': 1,\n",
              " 'everyone': 1,\n",
              " 'from': 1,\n",
              " 'onset': 1,\n",
              " 'career': 1,\n",
              " 'parents': 1,\n",
              " 'none': 1,\n",
              " 'would': 1,\n",
              " 'possible': 1,\n",
              " 'without': 1,\n",
              " 'friends': 1,\n",
              " 'love': 1,\n",
              " 'dearly': 1,\n",
              " 'know': 1,\n",
              " 'who': 1,\n",
              " 'are': 1}"
            ]
          },
          "execution_count": 25,
          "metadata": {},
          "output_type": "execute_result"
        }
      ],
      "source": [
        "word2count"
      ]
    },
    {
      "cell_type": "code",
      "execution_count": null,
      "id": "720c4e69",
      "metadata": {
        "id": "720c4e69"
      },
      "outputs": [],
      "source": [
        "import heapq"
      ]
    },
    {
      "cell_type": "code",
      "execution_count": null,
      "id": "20b67044",
      "metadata": {
        "id": "20b67044"
      },
      "outputs": [],
      "source": [
        "freq_words = heapq.nlargest(8, word2count,key=word2count.get)"
      ]
    },
    {
      "cell_type": "code",
      "execution_count": null,
      "id": "4d143326",
      "metadata": {
        "id": "4d143326",
        "outputId": "4eb78b6f-e97a-48a9-8268-b176d806ef12"
      },
      "outputs": [
        {
          "data": {
            "text/plain": [
              "['you', 'to', 'thank', 'the', 'of', 'my', 'this', 'i']"
            ]
          },
          "execution_count": 29,
          "metadata": {},
          "output_type": "execute_result"
        }
      ],
      "source": [
        "freq_words"
      ]
    },
    {
      "cell_type": "code",
      "execution_count": null,
      "id": "a70a068e",
      "metadata": {
        "id": "a70a068e"
      },
      "outputs": [],
      "source": [
        "x = []\n",
        "for data in dataset:\n",
        "    vector=[]\n",
        "    for word in freq_words:\n",
        "        if word in nltk.word_tokenize(data):\n",
        "            vector.append(1)\n",
        "        else:\n",
        "            vector.append(0)\n",
        "    x.append(vector)"
      ]
    },
    {
      "cell_type": "code",
      "execution_count": null,
      "id": "e8d19515",
      "metadata": {
        "id": "e8d19515",
        "outputId": "d8a5f374-ca84-4b78-f5da-4f1636248a1b"
      },
      "outputs": [
        {
          "data": {
            "text/plain": [
              "[[1, 0, 1, 0, 0, 0, 0, 0],\n",
              " [1, 1, 1, 1, 0, 0, 0, 0],\n",
              " [1, 1, 1, 0, 1, 0, 1, 0],\n",
              " [0, 1, 0, 1, 0, 0, 1, 1],\n",
              " [0, 0, 0, 1, 1, 0, 0, 0],\n",
              " [0, 1, 0, 0, 0, 1, 1, 0],\n",
              " [1, 0, 1, 0, 0, 0, 0, 0],\n",
              " [1, 1, 1, 0, 0, 1, 0, 0],\n",
              " [1, 1, 1, 1, 1, 1, 1, 1],\n",
              " [1, 1, 0, 0, 0, 1, 0, 1]]"
            ]
          },
          "execution_count": 34,
          "metadata": {},
          "output_type": "execute_result"
        }
      ],
      "source": [
        "x"
      ]
    },
    {
      "cell_type": "code",
      "execution_count": null,
      "id": "d3fbc0d4",
      "metadata": {
        "id": "d3fbc0d4"
      },
      "outputs": [],
      "source": [
        "import numpy as np"
      ]
    },
    {
      "cell_type": "code",
      "execution_count": null,
      "id": "201e491c",
      "metadata": {
        "id": "201e491c"
      },
      "outputs": [],
      "source": [
        "x = np.asarray(x)"
      ]
    },
    {
      "cell_type": "code",
      "execution_count": null,
      "id": "b0cba8c6",
      "metadata": {
        "id": "b0cba8c6",
        "outputId": "b520f9f8-606d-491e-b410-248e7f59dd7c"
      },
      "outputs": [
        {
          "data": {
            "text/plain": [
              "array([[1, 0, 1, 0, 0, 0, 0, 0],\n",
              "       [1, 1, 1, 1, 0, 0, 0, 0],\n",
              "       [1, 1, 1, 0, 1, 0, 1, 0],\n",
              "       [0, 1, 0, 1, 0, 0, 1, 1],\n",
              "       [0, 0, 0, 1, 1, 0, 0, 0],\n",
              "       [0, 1, 0, 0, 0, 1, 1, 0],\n",
              "       [1, 0, 1, 0, 0, 0, 0, 0],\n",
              "       [1, 1, 1, 0, 0, 1, 0, 0],\n",
              "       [1, 1, 1, 1, 1, 1, 1, 1],\n",
              "       [1, 1, 0, 0, 0, 1, 0, 1]])"
            ]
          },
          "execution_count": 39,
          "metadata": {},
          "output_type": "execute_result"
        }
      ],
      "source": [
        "x"
      ]
    },
    {
      "cell_type": "code",
      "execution_count": null,
      "id": "2f2be6f9",
      "metadata": {
        "id": "2f2be6f9",
        "outputId": "337638b7-2866-435b-a844-ca4b34f110c4"
      },
      "outputs": [
        {
          "data": {
            "text/plain": [
              "(10, 8)"
            ]
          },
          "execution_count": 40,
          "metadata": {},
          "output_type": "execute_result"
        }
      ],
      "source": [
        "x.shape"
      ]
    },
    {
      "cell_type": "code",
      "execution_count": null,
      "id": "6261604e",
      "metadata": {
        "id": "6261604e"
      },
      "outputs": [],
      "source": [
        ""
      ]
    }
  ],
  "metadata": {
    "kernelspec": {
      "display_name": "Python 3",
      "language": "python",
      "name": "python3"
    },
    "language_info": {
      "codemirror_mode": {
        "name": "ipython",
        "version": 3
      },
      "file_extension": ".py",
      "mimetype": "text/x-python",
      "name": "python",
      "nbconvert_exporter": "python",
      "pygments_lexer": "ipython3",
      "version": "3.6.13"
    },
    "colab": {
      "name": "17_02_BOW.ipynb",
      "provenance": []
    }
  },
  "nbformat": 4,
  "nbformat_minor": 5
}