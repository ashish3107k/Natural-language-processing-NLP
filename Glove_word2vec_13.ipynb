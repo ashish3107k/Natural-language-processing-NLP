{
  "nbformat": 4,
  "nbformat_minor": 0,
  "metadata": {
    "colab": {
      "name": "Glove_word2vec.ipynb",
      "provenance": []
    },
    "kernelspec": {
      "name": "python3",
      "display_name": "Python 3"
    },
    "language_info": {
      "name": "python"
    },
    "accelerator": "GPU"
  },
  "cells": [
    {
      "cell_type": "code",
      "execution_count": null,
      "metadata": {
        "id": "mUd3jmtk-aHC"
      },
      "outputs": [],
      "source": [
        "from gensim.models import KeyedVectors"
      ]
    },
    {
      "cell_type": "code",
      "source": [
        "!wget -c \"https://s3.amazonaws.com/dl4j-distribution/GoogleNews-vectors-negative300.bin.gz\" #word2vec"
      ],
      "metadata": {
        "colab": {
          "base_uri": "https://localhost:8080/"
        },
        "id": "KeRhLuum-kNO",
        "outputId": "593c20fa-c37b-4d62-d821-3f29daf43365"
      },
      "execution_count": null,
      "outputs": [
        {
          "output_type": "stream",
          "name": "stdout",
          "text": [
            "--2022-03-10 03:58:30--  https://s3.amazonaws.com/dl4j-distribution/GoogleNews-vectors-negative300.bin.gz\n",
            "Resolving s3.amazonaws.com (s3.amazonaws.com)... 52.217.159.0\n",
            "Connecting to s3.amazonaws.com (s3.amazonaws.com)|52.217.159.0|:443... connected.\n",
            "HTTP request sent, awaiting response... 200 OK\n",
            "Length: 1647046227 (1.5G) [application/x-gzip]\n",
            "Saving to: ‘GoogleNews-vectors-negative300.bin.gz’\n",
            "\n",
            "GoogleNews-vectors- 100%[===================>]   1.53G  36.3MB/s    in 45s     \n",
            "\n",
            "2022-03-10 03:59:16 (34.5 MB/s) - ‘GoogleNews-vectors-negative300.bin.gz’ saved [1647046227/1647046227]\n",
            "\n"
          ]
        }
      ]
    },
    {
      "cell_type": "code",
      "source": [
        "!gzip -d GoogleNews-vectors-negative300.bin.gz"
      ],
      "metadata": {
        "id": "ZaILT1o6-mXV"
      },
      "execution_count": null,
      "outputs": []
    },
    {
      "cell_type": "code",
      "source": [
        "filename = 'GoogleNews-vectors-negative300.bin'"
      ],
      "metadata": {
        "id": "S7Y8DlVm-0Qv"
      },
      "execution_count": null,
      "outputs": []
    },
    {
      "cell_type": "code",
      "source": [
        "model = KeyedVectors.load_word2vec_format(filename, binary=True)"
      ],
      "metadata": {
        "id": "q8KGXWjO_AEF"
      },
      "execution_count": null,
      "outputs": []
    },
    {
      "cell_type": "code",
      "source": [
        "model.vector_size"
      ],
      "metadata": {
        "colab": {
          "base_uri": "https://localhost:8080/"
        },
        "id": "F0Zt73k8_C8v",
        "outputId": "2f5806dc-1168-4552-a843-3e7a1d533ee1"
      },
      "execution_count": null,
      "outputs": [
        {
          "output_type": "execute_result",
          "data": {
            "text/plain": [
              "300"
            ]
          },
          "metadata": {},
          "execution_count": 6
        }
      ]
    },
    {
      "cell_type": "code",
      "source": [
        "len(model.vocab.keys())"
      ],
      "metadata": {
        "colab": {
          "base_uri": "https://localhost:8080/"
        },
        "id": "RgveR67a_Tso",
        "outputId": "f8d452c3-1d8b-49a2-fbe3-6ce060036c21"
      },
      "execution_count": null,
      "outputs": [
        {
          "output_type": "execute_result",
          "data": {
            "text/plain": [
              "3000000"
            ]
          },
          "metadata": {},
          "execution_count": 7
        }
      ]
    },
    {
      "cell_type": "code",
      "source": [
        "model.most_similar('bjp')"
      ],
      "metadata": {
        "colab": {
          "base_uri": "https://localhost:8080/"
        },
        "id": "3RU0Lksp_Zv9",
        "outputId": "28c15351-c7bc-4d4f-bea9-bb971933da6d"
      },
      "execution_count": null,
      "outputs": [
        {
          "output_type": "execute_result",
          "data": {
            "text/plain": [
              "[('BJP', 0.7292343974113464),\n",
              " ('nitish', 0.729143500328064),\n",
              " ('ADMK', 0.704279899597168),\n",
              " ('manmohan_singh', 0.7038345336914062),\n",
              " ('sonia', 0.7023032307624817),\n",
              " ('bihar', 0.7009325623512268),\n",
              " ('Akalis', 0.6981334686279297),\n",
              " ('RJD', 0.6942098140716553),\n",
              " ('BJD_BJP', 0.6889923810958862),\n",
              " ('Telangana_Rashtra_Samithi', 0.6853076219558716)]"
            ]
          },
          "metadata": {},
          "execution_count": 8
        }
      ]
    },
    {
      "cell_type": "code",
      "source": [
        "model.most_similar('apple')"
      ],
      "metadata": {
        "colab": {
          "base_uri": "https://localhost:8080/"
        },
        "id": "A-hQrQWq_eGP",
        "outputId": "922b4082-e66a-42b2-ce18-ec99ac1b9ce2"
      },
      "execution_count": null,
      "outputs": [
        {
          "output_type": "execute_result",
          "data": {
            "text/plain": [
              "[('apples', 0.7203598022460938),\n",
              " ('pear', 0.6450696587562561),\n",
              " ('fruit', 0.6410146355628967),\n",
              " ('berry', 0.6302294731140137),\n",
              " ('pears', 0.6133961081504822),\n",
              " ('strawberry', 0.6058261394500732),\n",
              " ('peach', 0.6025873422622681),\n",
              " ('potato', 0.596093475818634),\n",
              " ('grape', 0.5935864448547363),\n",
              " ('blueberry', 0.5866668224334717)]"
            ]
          },
          "metadata": {},
          "execution_count": 9
        }
      ]
    },
    {
      "cell_type": "code",
      "source": [
        "model.most_similar('apples')"
      ],
      "metadata": {
        "colab": {
          "base_uri": "https://localhost:8080/"
        },
        "id": "XY59Nqa1_pad",
        "outputId": "5e505673-a0ba-4a70-99b4-476222cc693d"
      },
      "execution_count": null,
      "outputs": [
        {
          "output_type": "execute_result",
          "data": {
            "text/plain": [
              "[('apple', 0.7203598022460938),\n",
              " ('pears', 0.7059341669082642),\n",
              " ('oranges', 0.6965839862823486),\n",
              " ('peaches', 0.6782960295677185),\n",
              " ('cherries', 0.6512620449066162),\n",
              " ('berries', 0.641532838344574),\n",
              " ('grapes', 0.6387811303138733),\n",
              " ('strawberries', 0.6334629058837891),\n",
              " ('Granny_Smiths', 0.6301133632659912),\n",
              " ('fruit', 0.6161550283432007)]"
            ]
          },
          "metadata": {},
          "execution_count": 10
        }
      ]
    },
    {
      "cell_type": "code",
      "source": [
        "model.most_similar('dog')"
      ],
      "metadata": {
        "colab": {
          "base_uri": "https://localhost:8080/"
        },
        "id": "vbbIJg7D_t8G",
        "outputId": "8ebce13a-1afd-4e93-f0db-2d9f97394750"
      },
      "execution_count": null,
      "outputs": [
        {
          "output_type": "execute_result",
          "data": {
            "text/plain": [
              "[('dogs', 0.8680489659309387),\n",
              " ('puppy', 0.8106428384780884),\n",
              " ('pit_bull', 0.780396044254303),\n",
              " ('pooch', 0.7627377510070801),\n",
              " ('cat', 0.7609456777572632),\n",
              " ('golden_retriever', 0.7500902414321899),\n",
              " ('German_shepherd', 0.7465174198150635),\n",
              " ('Rottweiler', 0.7437614798545837),\n",
              " ('beagle', 0.7418621778488159),\n",
              " ('pup', 0.740691065788269)]"
            ]
          },
          "metadata": {},
          "execution_count": 11
        }
      ]
    },
    {
      "cell_type": "code",
      "source": [
        "result = model.most_similar(positive=['woman', 'king']\n",
        "                            , negative=['man']\n",
        "                            , topn=3) "
      ],
      "metadata": {
        "id": "RV54R6GZ_xcr"
      },
      "execution_count": null,
      "outputs": []
    },
    {
      "cell_type": "code",
      "source": [
        "result"
      ],
      "metadata": {
        "colab": {
          "base_uri": "https://localhost:8080/"
        },
        "id": "iJWDxj_OAK57",
        "outputId": "09d25eb1-c5c7-41a2-9d48-87e4bc4700ed"
      },
      "execution_count": null,
      "outputs": [
        {
          "output_type": "execute_result",
          "data": {
            "text/plain": [
              "[('queen', 0.7118192911148071),\n",
              " ('monarch', 0.6189674139022827),\n",
              " ('princess', 0.5902431011199951)]"
            ]
          },
          "metadata": {},
          "execution_count": 13
        }
      ]
    },
    {
      "cell_type": "code",
      "source": [
        "result = model.most_similar(positive=['sachin', 'tennis']\n",
        "                            , negative=['cricket']\n",
        "                            , topn=3)"
      ],
      "metadata": {
        "id": "snT1UqOwANJk"
      },
      "execution_count": null,
      "outputs": []
    },
    {
      "cell_type": "code",
      "source": [
        "result"
      ],
      "metadata": {
        "colab": {
          "base_uri": "https://localhost:8080/"
        },
        "id": "hWolW9ctAXq0",
        "outputId": "e3afedac-4fc7-4503-8c9b-f73d1f66f59c"
      },
      "execution_count": null,
      "outputs": [
        {
          "output_type": "execute_result",
          "data": {
            "text/plain": [
              "[('nadal', 0.6001622676849365),\n",
              " ('federer', 0.5613065958023071),\n",
              " ('Steffi_Graff', 0.5590043663978577)]"
            ]
          },
          "metadata": {},
          "execution_count": 15
        }
      ]
    },
    {
      "cell_type": "code",
      "source": [
        "# Stanford’s GloVe Embedding"
      ],
      "metadata": {
        "id": "UXOw6xP7AaAB"
      },
      "execution_count": null,
      "outputs": []
    },
    {
      "cell_type": "code",
      "source": [
        "from gensim.models import KeyedVectors"
      ],
      "metadata": {
        "id": "roH3M6IHAhKu"
      },
      "execution_count": null,
      "outputs": []
    },
    {
      "cell_type": "code",
      "source": [
        "!wget http://nlp.stanford.edu/data/glove.6B.zip"
      ],
      "metadata": {
        "colab": {
          "base_uri": "https://localhost:8080/"
        },
        "id": "xgcht8wZAlgp",
        "outputId": "c5d69713-6089-4ab0-9f9e-0d33c8f35c95"
      },
      "execution_count": null,
      "outputs": [
        {
          "output_type": "stream",
          "name": "stdout",
          "text": [
            "--2022-03-10 04:07:31--  http://nlp.stanford.edu/data/glove.6B.zip\n",
            "Resolving nlp.stanford.edu (nlp.stanford.edu)... 171.64.67.140\n",
            "Connecting to nlp.stanford.edu (nlp.stanford.edu)|171.64.67.140|:80... connected.\n",
            "HTTP request sent, awaiting response... 302 Found\n",
            "Location: https://nlp.stanford.edu/data/glove.6B.zip [following]\n",
            "--2022-03-10 04:07:32--  https://nlp.stanford.edu/data/glove.6B.zip\n",
            "Connecting to nlp.stanford.edu (nlp.stanford.edu)|171.64.67.140|:443... connected.\n",
            "HTTP request sent, awaiting response... 301 Moved Permanently\n",
            "Location: http://downloads.cs.stanford.edu/nlp/data/glove.6B.zip [following]\n",
            "--2022-03-10 04:07:32--  http://downloads.cs.stanford.edu/nlp/data/glove.6B.zip\n",
            "Resolving downloads.cs.stanford.edu (downloads.cs.stanford.edu)... 171.64.64.22\n",
            "Connecting to downloads.cs.stanford.edu (downloads.cs.stanford.edu)|171.64.64.22|:80... connected.\n",
            "HTTP request sent, awaiting response... 200 OK\n",
            "Length: 862182613 (822M) [application/zip]\n",
            "Saving to: ‘glove.6B.zip’\n",
            "\n",
            "glove.6B.zip        100%[===================>] 822.24M  5.25MB/s    in 2m 41s  \n",
            "\n",
            "2022-03-10 04:10:14 (5.10 MB/s) - ‘glove.6B.zip’ saved [862182613/862182613]\n",
            "\n"
          ]
        }
      ]
    },
    {
      "cell_type": "code",
      "source": [
        "!unzip glove*.zip"
      ],
      "metadata": {
        "colab": {
          "base_uri": "https://localhost:8080/"
        },
        "id": "kNImdXs_AqTQ",
        "outputId": "90abc427-52e5-4391-d705-64cd3a9f6b4e"
      },
      "execution_count": null,
      "outputs": [
        {
          "output_type": "stream",
          "name": "stdout",
          "text": [
            "Archive:  glove.6B.zip\n",
            "  inflating: glove.6B.50d.txt        \n",
            "  inflating: glove.6B.100d.txt       \n",
            "  inflating: glove.6B.200d.txt       \n",
            "  inflating: glove.6B.300d.txt       \n"
          ]
        }
      ]
    },
    {
      "cell_type": "code",
      "source": [
        "from gensim.scripts.glove2word2vec import glove2word2vec\n",
        "glove_input_file = 'glove.6B.100d.txt' \n",
        "word2vec_output_file = 'glove.6B.100d.txt.word2vec' \n",
        "glove2word2vec(glove_input_file, word2vec_output_file)"
      ],
      "metadata": {
        "colab": {
          "base_uri": "https://localhost:8080/"
        },
        "id": "FwlLlfwRBe1i",
        "outputId": "a1344d4e-941f-45f4-a3ec-3d0c1a1f011b"
      },
      "execution_count": null,
      "outputs": [
        {
          "output_type": "execute_result",
          "data": {
            "text/plain": [
              "(400000, 100)"
            ]
          },
          "metadata": {},
          "execution_count": 20
        }
      ]
    },
    {
      "cell_type": "code",
      "source": [
        "filename = 'glove.6B.100d.txt.word2vec'\n",
        "model = KeyedVectors.load_word2vec_format(filename, binary=False)"
      ],
      "metadata": {
        "id": "fXTAcZhKB6gk"
      },
      "execution_count": null,
      "outputs": []
    },
    {
      "cell_type": "code",
      "source": [
        "model.most_similar('apples')"
      ],
      "metadata": {
        "colab": {
          "base_uri": "https://localhost:8080/"
        },
        "id": "khqFmNCuCJMg",
        "outputId": "1beb9139-f90a-4f43-a2cf-4ec0b50442b8"
      },
      "execution_count": null,
      "outputs": [
        {
          "output_type": "execute_result",
          "data": {
            "text/plain": [
              "[('pears', 0.8060727119445801),\n",
              " ('mangoes', 0.7937251329421997),\n",
              " ('oranges', 0.7910455465316772),\n",
              " ('peaches', 0.7866174578666687),\n",
              " ('cherries', 0.7693214416503906),\n",
              " ('strawberries', 0.7389282584190369),\n",
              " ('melons', 0.7277671098709106),\n",
              " ('apricots', 0.7255706191062927),\n",
              " ('tomatoes', 0.72376549243927),\n",
              " ('potatoes', 0.7182415723800659)]"
            ]
          },
          "metadata": {},
          "execution_count": 22
        }
      ]
    },
    {
      "cell_type": "code",
      "source": [
        "model.most_similar('apple')"
      ],
      "metadata": {
        "colab": {
          "base_uri": "https://localhost:8080/"
        },
        "id": "j1Dwm62UCTov",
        "outputId": "cab4bfed-8cae-4e15-b103-952f82d2187e"
      },
      "execution_count": null,
      "outputs": [
        {
          "output_type": "execute_result",
          "data": {
            "text/plain": [
              "[('microsoft', 0.7449405789375305),\n",
              " ('ibm', 0.6821643710136414),\n",
              " ('intel', 0.6778088212013245),\n",
              " ('software', 0.6775422096252441),\n",
              " ('dell', 0.6741442680358887),\n",
              " ('pc', 0.6678153276443481),\n",
              " ('macintosh', 0.66175377368927),\n",
              " ('iphone', 0.6595611572265625),\n",
              " ('ipod', 0.6534676551818848),\n",
              " ('hewlett', 0.6516579985618591)]"
            ]
          },
          "metadata": {},
          "execution_count": 23
        }
      ]
    },
    {
      "cell_type": "code",
      "source": [
        "model.most_similar('dog')"
      ],
      "metadata": {
        "colab": {
          "base_uri": "https://localhost:8080/"
        },
        "id": "5w1nlHY1CYxu",
        "outputId": "c6d512ad-b6cd-46bb-b0ba-18339175ad9c"
      },
      "execution_count": null,
      "outputs": [
        {
          "output_type": "execute_result",
          "data": {
            "text/plain": [
              "[('cat', 0.8798074722290039),\n",
              " ('dogs', 0.8344309329986572),\n",
              " ('pet', 0.7449564933776855),\n",
              " ('puppy', 0.723637580871582),\n",
              " ('horse', 0.7109653353691101),\n",
              " ('animal', 0.6817063093185425),\n",
              " ('pig', 0.6554172039031982),\n",
              " ('boy', 0.6545307636260986),\n",
              " ('cats', 0.6471933126449585),\n",
              " ('rabbit', 0.6468630433082581)]"
            ]
          },
          "metadata": {},
          "execution_count": 24
        }
      ]
    },
    {
      "cell_type": "code",
      "source": [
        "model.most_similar('durga')"
      ],
      "metadata": {
        "colab": {
          "base_uri": "https://localhost:8080/"
        },
        "id": "TYIh8DPCCnPp",
        "outputId": "6155496a-622d-4b55-9a85-d902af0cb72f"
      },
      "execution_count": null,
      "outputs": [
        {
          "output_type": "execute_result",
          "data": {
            "text/plain": [
              "[('puja', 0.7985782623291016),\n",
              " ('kali', 0.7884222269058228),\n",
              " ('devi', 0.7204644083976746),\n",
              " ('parvati', 0.6859340667724609),\n",
              " ('shiva', 0.6693297624588013),\n",
              " ('navratri', 0.649545431137085),\n",
              " ('pooja', 0.6358780860900879),\n",
              " ('goddess', 0.6346532702445984),\n",
              " ('saraswati', 0.6203272342681885),\n",
              " ('ganesha', 0.6175170540809631)]"
            ]
          },
          "metadata": {},
          "execution_count": 25
        }
      ]
    },
    {
      "cell_type": "code",
      "source": [
        "model.most_similar('modi')"
      ],
      "metadata": {
        "colab": {
          "base_uri": "https://localhost:8080/"
        },
        "id": "G0gl0RF7CtWL",
        "outputId": "eb8ed689-e6ec-4df8-a7a0-e7611515255f"
      },
      "execution_count": null,
      "outputs": [
        {
          "output_type": "execute_result",
          "data": {
            "text/plain": [
              "[('narendra', 0.7561359405517578),\n",
              " ('alkatiri', 0.6231592297554016),\n",
              " ('lalit', 0.6148896813392639),\n",
              " ('gujarat', 0.6068904399871826),\n",
              " ('nawaz', 0.5941665172576904),\n",
              " ('bjp', 0.5920788049697876),\n",
              " ('samak', 0.5841799378395081),\n",
              " ('somchai', 0.5836262702941895),\n",
              " ('advani', 0.5665984153747559),\n",
              " ('zia', 0.5625712871551514)]"
            ]
          },
          "metadata": {},
          "execution_count": 26
        }
      ]
    },
    {
      "cell_type": "code",
      "source": [
        "result = model.most_similar(positive=['woman', 'king']\n",
        "                            , negative=['man']\n",
        "                            , topn=3) "
      ],
      "metadata": {
        "id": "cRA-7QaQCw9n"
      },
      "execution_count": null,
      "outputs": []
    },
    {
      "cell_type": "code",
      "source": [
        "result"
      ],
      "metadata": {
        "colab": {
          "base_uri": "https://localhost:8080/"
        },
        "id": "7nCBJ2KHC5V8",
        "outputId": "cfbccd33-2cba-4202-c532-87aa80ffd118"
      },
      "execution_count": null,
      "outputs": [
        {
          "output_type": "execute_result",
          "data": {
            "text/plain": [
              "[('queen', 0.7698541283607483),\n",
              " ('monarch', 0.6843380928039551),\n",
              " ('throne', 0.6755735874176025)]"
            ]
          },
          "metadata": {},
          "execution_count": 28
        }
      ]
    },
    {
      "cell_type": "code",
      "source": [
        "result = model.most_similar(positive=['sachin', 'tennis']\n",
        "                            , negative=['cricket']\n",
        "                            , topn=3)"
      ],
      "metadata": {
        "id": "752cBh7SC6qZ"
      },
      "execution_count": null,
      "outputs": []
    },
    {
      "cell_type": "code",
      "source": [
        "result"
      ],
      "metadata": {
        "colab": {
          "base_uri": "https://localhost:8080/"
        },
        "id": "68-Aj-QXDAYS",
        "outputId": "270b8f74-81f8-4e65-8615-08377b48d559"
      },
      "execution_count": null,
      "outputs": [
        {
          "output_type": "execute_result",
          "data": {
            "text/plain": [
              "[('kournikova', 0.5904943346977234),\n",
              " ('miyazato', 0.5722489953041077),\n",
              " ('safin', 0.5405170917510986)]"
            ]
          },
          "metadata": {},
          "execution_count": 30
        }
      ]
    },
    {
      "cell_type": "code",
      "source": [
        ""
      ],
      "metadata": {
        "id": "R5VnjUY3DC71"
      },
      "execution_count": null,
      "outputs": []
    }
  ]
}