{
  "cells": [
    {
      "cell_type": "code",
      "execution_count": null,
      "id": "9db77b24",
      "metadata": {
        "id": "9db77b24"
      },
      "outputs": [],
      "source": [
        "# Natural Language Toolkit"
      ]
    },
    {
      "cell_type": "code",
      "execution_count": null,
      "id": "09a3d61a",
      "metadata": {
        "id": "09a3d61a",
        "outputId": "e34d59fb-20d0-41a8-e04e-ece23b21c3a4"
      },
      "outputs": [
        {
          "name": "stdout",
          "output_type": "stream",
          "text": [
            "showing info https://raw.githubusercontent.com/nltk/nltk_data/gh-pages/index.xml\n"
          ]
        },
        {
          "data": {
            "text/plain": [
              "True"
            ]
          },
          "execution_count": 2,
          "metadata": {},
          "output_type": "execute_result"
        }
      ],
      "source": [
        "import nltk\n",
        "nltk.download()"
      ]
    },
    {
      "cell_type": "code",
      "execution_count": null,
      "id": "62c15727",
      "metadata": {
        "id": "62c15727"
      },
      "outputs": [],
      "source": [
        "paragraph = \"\"\"'Thank you all so very much. Thank you to the Academy. Thank you to all of you in this room. I have to congratulate the other incredible nominees this year. The Revenant was the product of the tireless efforts of an unbelievable cast and crew. First off, to my brother in this endeavor, Mr. Tom Hardy. Tom, your talent on screen can only be surpassed by your friendship off screen … thank you for creating a transcendent cinematic experience. Thank you to everybody at Fox and New Regency … my entire team. I have to thank everyone from the very onset of my career … To my parents; none of this would be possible without you. And to my friends, I love you dearly; you know who you are.'\"\"\""
      ]
    },
    {
      "cell_type": "code",
      "execution_count": null,
      "id": "5b81ff3e",
      "metadata": {
        "id": "5b81ff3e",
        "outputId": "4c04d298-ec93-4144-cf83-81af45ba7acd"
      },
      "outputs": [
        {
          "data": {
            "text/plain": [
              "\"'Thank you all so very much. Thank you to the Academy. Thank you to all of you in this room. I have to congratulate the other incredible nominees this year. The Revenant was the product of the tireless efforts of an unbelievable cast and crew. First off, to my brother in this endeavor, Mr. Tom Hardy. Tom, your talent on screen can only be surpassed by your friendship off screen … thank you for creating a transcendent cinematic experience. Thank you to everybody at Fox and New Regency … my entire team. I have to thank everyone from the very onset of my career … To my parents; none of this would be possible without you. And to my friends, I love you dearly; you know who you are.'\""
            ]
          },
          "execution_count": 44,
          "metadata": {},
          "output_type": "execute_result"
        }
      ],
      "source": [
        "paragraph"
      ]
    },
    {
      "cell_type": "code",
      "execution_count": null,
      "id": "4a8e39b7",
      "metadata": {
        "id": "4a8e39b7",
        "outputId": "6fa411d2-d3a1-49b5-94d4-2eeed9ea27b6"
      },
      "outputs": [
        {
          "data": {
            "text/plain": [
              "[\"'Thank you all so very much\",\n",
              " ' Thank you to the Academy',\n",
              " ' Thank you to all of you in this room',\n",
              " ' I have to congratulate the other incredible nominees this year',\n",
              " ' The Revenant was the product of the tireless efforts of an unbelievable cast and crew',\n",
              " ' First off, to my brother in this endeavor, Mr',\n",
              " ' Tom Hardy',\n",
              " ' Tom, your talent on screen can only be surpassed by your friendship off screen … thank you for creating a transcendent cinematic experience',\n",
              " ' Thank you to everybody at Fox and New Regency … my entire team',\n",
              " ' I have to thank everyone from the very onset of my career … To my parents; none of this would be possible without you',\n",
              " ' And to my friends, I love you dearly; you know who you are',\n",
              " \"'\"]"
            ]
          },
          "execution_count": 46,
          "metadata": {},
          "output_type": "execute_result"
        }
      ],
      "source": [
        "paragraph.split('.')"
      ]
    },
    {
      "cell_type": "code",
      "execution_count": null,
      "id": "12487e62",
      "metadata": {
        "id": "12487e62",
        "outputId": "022b305c-aad7-40bc-bf1c-db25131fddfd"
      },
      "outputs": [
        {
          "data": {
            "text/plain": [
              "12"
            ]
          },
          "execution_count": 47,
          "metadata": {},
          "output_type": "execute_result"
        }
      ],
      "source": [
        "len(paragraph.split('.'))"
      ]
    },
    {
      "cell_type": "code",
      "execution_count": null,
      "id": "ff5c87c3",
      "metadata": {
        "id": "ff5c87c3"
      },
      "outputs": [],
      "source": [
        "sentences = nltk.sent_tokenize(paragraph)"
      ]
    },
    {
      "cell_type": "code",
      "execution_count": null,
      "id": "c36bb26d",
      "metadata": {
        "id": "c36bb26d",
        "outputId": "aa2c36aa-8d22-4fe9-d353-4f184e9b9803"
      },
      "outputs": [
        {
          "data": {
            "text/plain": [
              "[\"'Thank you all so very much.\",\n",
              " 'Thank you to the Academy.',\n",
              " 'Thank you to all of you in this room.',\n",
              " 'I have to congratulate the other incredible nominees this year.',\n",
              " 'The Revenant was the product of the tireless efforts of an unbelievable cast and crew.',\n",
              " 'First off, to my brother in this endeavor, Mr. Tom Hardy.',\n",
              " 'Tom, your talent on screen can only be surpassed by your friendship off screen … thank you for creating a transcendent cinematic experience.',\n",
              " 'Thank you to everybody at Fox and New Regency … my entire team.',\n",
              " 'I have to thank everyone from the very onset of my career … To my parents; none of this would be possible without you.',\n",
              " \"And to my friends, I love you dearly; you know who you are.'\"]"
            ]
          },
          "execution_count": 49,
          "metadata": {},
          "output_type": "execute_result"
        }
      ],
      "source": [
        "sentences"
      ]
    },
    {
      "cell_type": "code",
      "execution_count": null,
      "id": "5749bf56",
      "metadata": {
        "id": "5749bf56",
        "outputId": "cfca0935-8dad-47e7-a515-273e076676a9"
      },
      "outputs": [
        {
          "data": {
            "text/plain": [
              "[\"'Thank\",\n",
              " 'you',\n",
              " 'all',\n",
              " 'so',\n",
              " 'very',\n",
              " 'much.',\n",
              " 'Thank',\n",
              " 'you',\n",
              " 'to',\n",
              " 'the',\n",
              " 'Academy.',\n",
              " 'Thank',\n",
              " 'you',\n",
              " 'to',\n",
              " 'all',\n",
              " 'of',\n",
              " 'you',\n",
              " 'in',\n",
              " 'this',\n",
              " 'room.',\n",
              " 'I',\n",
              " 'have',\n",
              " 'to',\n",
              " 'congratulate',\n",
              " 'the',\n",
              " 'other',\n",
              " 'incredible',\n",
              " 'nominees',\n",
              " 'this',\n",
              " 'year.',\n",
              " 'The',\n",
              " 'Revenant',\n",
              " 'was',\n",
              " 'the',\n",
              " 'product',\n",
              " 'of',\n",
              " 'the',\n",
              " 'tireless',\n",
              " 'efforts',\n",
              " 'of',\n",
              " 'an',\n",
              " 'unbelievable',\n",
              " 'cast',\n",
              " 'and',\n",
              " 'crew.',\n",
              " 'First',\n",
              " 'off,',\n",
              " 'to',\n",
              " 'my',\n",
              " 'brother',\n",
              " 'in',\n",
              " 'this',\n",
              " 'endeavor,',\n",
              " 'Mr.',\n",
              " 'Tom',\n",
              " 'Hardy.',\n",
              " 'Tom,',\n",
              " 'your',\n",
              " 'talent',\n",
              " 'on',\n",
              " 'screen',\n",
              " 'can',\n",
              " 'only',\n",
              " 'be',\n",
              " 'surpassed',\n",
              " 'by',\n",
              " 'your',\n",
              " 'friendship',\n",
              " 'off',\n",
              " 'screen',\n",
              " '…',\n",
              " 'thank',\n",
              " 'you',\n",
              " 'for',\n",
              " 'creating',\n",
              " 'a',\n",
              " 'transcendent',\n",
              " 'cinematic',\n",
              " 'experience.',\n",
              " 'Thank',\n",
              " 'you',\n",
              " 'to',\n",
              " 'everybody',\n",
              " 'at',\n",
              " 'Fox',\n",
              " 'and',\n",
              " 'New',\n",
              " 'Regency',\n",
              " '…',\n",
              " 'my',\n",
              " 'entire',\n",
              " 'team.',\n",
              " 'I',\n",
              " 'have',\n",
              " 'to',\n",
              " 'thank',\n",
              " 'everyone',\n",
              " 'from',\n",
              " 'the',\n",
              " 'very',\n",
              " 'onset',\n",
              " 'of',\n",
              " 'my',\n",
              " 'career',\n",
              " '…',\n",
              " 'To',\n",
              " 'my',\n",
              " 'parents;',\n",
              " 'none',\n",
              " 'of',\n",
              " 'this',\n",
              " 'would',\n",
              " 'be',\n",
              " 'possible',\n",
              " 'without',\n",
              " 'you.',\n",
              " 'And',\n",
              " 'to',\n",
              " 'my',\n",
              " 'friends,',\n",
              " 'I',\n",
              " 'love',\n",
              " 'you',\n",
              " 'dearly;',\n",
              " 'you',\n",
              " 'know',\n",
              " 'who',\n",
              " 'you',\n",
              " \"are.'\"]"
            ]
          },
          "execution_count": 9,
          "metadata": {},
          "output_type": "execute_result"
        }
      ],
      "source": [
        "paragraph.split(' ')"
      ]
    },
    {
      "cell_type": "code",
      "execution_count": null,
      "id": "a8af66bf",
      "metadata": {
        "id": "a8af66bf",
        "outputId": "60c77843-6820-4d88-fcd5-792da6dce1f6"
      },
      "outputs": [
        {
          "data": {
            "text/plain": [
              "129"
            ]
          },
          "execution_count": 10,
          "metadata": {},
          "output_type": "execute_result"
        }
      ],
      "source": [
        "len(paragraph.split(' '))"
      ]
    },
    {
      "cell_type": "code",
      "execution_count": null,
      "id": "36170733",
      "metadata": {
        "id": "36170733"
      },
      "outputs": [],
      "source": [
        "words = nltk.word_tokenize(paragraph)"
      ]
    },
    {
      "cell_type": "code",
      "execution_count": null,
      "id": "1f8e79d9",
      "metadata": {
        "id": "1f8e79d9",
        "outputId": "b988fa5c-ee35-458f-b886-40c911a397d8"
      },
      "outputs": [
        {
          "data": {
            "text/plain": [
              "[\"'Thank\",\n",
              " 'you',\n",
              " 'all',\n",
              " 'so',\n",
              " 'very',\n",
              " 'much',\n",
              " '.',\n",
              " 'Thank',\n",
              " 'you',\n",
              " 'to',\n",
              " 'the',\n",
              " 'Academy',\n",
              " '.',\n",
              " 'Thank',\n",
              " 'you',\n",
              " 'to',\n",
              " 'all',\n",
              " 'of',\n",
              " 'you',\n",
              " 'in',\n",
              " 'this',\n",
              " 'room',\n",
              " '.',\n",
              " 'I',\n",
              " 'have',\n",
              " 'to',\n",
              " 'congratulate',\n",
              " 'the',\n",
              " 'other',\n",
              " 'incredible',\n",
              " 'nominees',\n",
              " 'this',\n",
              " 'year',\n",
              " '.',\n",
              " 'The',\n",
              " 'Revenant',\n",
              " 'was',\n",
              " 'the',\n",
              " 'product',\n",
              " 'of',\n",
              " 'the',\n",
              " 'tireless',\n",
              " 'efforts',\n",
              " 'of',\n",
              " 'an',\n",
              " 'unbelievable',\n",
              " 'cast',\n",
              " 'and',\n",
              " 'crew',\n",
              " '.',\n",
              " 'First',\n",
              " 'off',\n",
              " ',',\n",
              " 'to',\n",
              " 'my',\n",
              " 'brother',\n",
              " 'in',\n",
              " 'this',\n",
              " 'endeavor',\n",
              " ',',\n",
              " 'Mr.',\n",
              " 'Tom',\n",
              " 'Hardy',\n",
              " '.',\n",
              " 'Tom',\n",
              " ',',\n",
              " 'your',\n",
              " 'talent',\n",
              " 'on',\n",
              " 'screen',\n",
              " 'can',\n",
              " 'only',\n",
              " 'be',\n",
              " 'surpassed',\n",
              " 'by',\n",
              " 'your',\n",
              " 'friendship',\n",
              " 'off',\n",
              " 'screen',\n",
              " '…',\n",
              " 'thank',\n",
              " 'you',\n",
              " 'for',\n",
              " 'creating',\n",
              " 'a',\n",
              " 'transcendent',\n",
              " 'cinematic',\n",
              " 'experience',\n",
              " '.',\n",
              " 'Thank',\n",
              " 'you',\n",
              " 'to',\n",
              " 'everybody',\n",
              " 'at',\n",
              " 'Fox',\n",
              " 'and',\n",
              " 'New',\n",
              " 'Regency',\n",
              " '…',\n",
              " 'my',\n",
              " 'entire',\n",
              " 'team',\n",
              " '.',\n",
              " 'I',\n",
              " 'have',\n",
              " 'to',\n",
              " 'thank',\n",
              " 'everyone',\n",
              " 'from',\n",
              " 'the',\n",
              " 'very',\n",
              " 'onset',\n",
              " 'of',\n",
              " 'my',\n",
              " 'career',\n",
              " '…',\n",
              " 'To',\n",
              " 'my',\n",
              " 'parents',\n",
              " ';',\n",
              " 'none',\n",
              " 'of',\n",
              " 'this',\n",
              " 'would',\n",
              " 'be',\n",
              " 'possible',\n",
              " 'without',\n",
              " 'you',\n",
              " '.',\n",
              " 'And',\n",
              " 'to',\n",
              " 'my',\n",
              " 'friends',\n",
              " ',',\n",
              " 'I',\n",
              " 'love',\n",
              " 'you',\n",
              " 'dearly',\n",
              " ';',\n",
              " 'you',\n",
              " 'know',\n",
              " 'who',\n",
              " 'you',\n",
              " 'are',\n",
              " '.',\n",
              " \"'\"]"
            ]
          },
          "execution_count": 12,
          "metadata": {},
          "output_type": "execute_result"
        }
      ],
      "source": [
        "words"
      ]
    },
    {
      "cell_type": "code",
      "execution_count": null,
      "id": "93fe623a",
      "metadata": {
        "id": "93fe623a"
      },
      "outputs": [],
      "source": [
        "#  Stemming"
      ]
    },
    {
      "cell_type": "code",
      "execution_count": null,
      "id": "ae7efad3",
      "metadata": {
        "id": "ae7efad3"
      },
      "outputs": [],
      "source": [
        "from nltk.stem import PorterStemmer\n",
        "stemmer = PorterStemmer()"
      ]
    },
    {
      "cell_type": "code",
      "execution_count": null,
      "id": "95becb43",
      "metadata": {
        "id": "95becb43"
      },
      "outputs": [],
      "source": [
        "for i in range (len(sentences)):\n",
        "    words = nltk.word_tokenize(sentences[i])\n",
        "    newwords = [stemmer.stem(word) for word in words]\n",
        "    sentences[i] = \" \".join(newwords)\n",
        "    \n"
      ]
    },
    {
      "cell_type": "code",
      "execution_count": null,
      "id": "b69ef3d5",
      "metadata": {
        "id": "b69ef3d5",
        "outputId": "5457d204-edd3-438c-a47a-b70e7a9b0c51"
      },
      "outputs": [
        {
          "data": {
            "text/plain": [
              "[\"'thank you all so veri much .\",\n",
              " 'thank you to the academi .',\n",
              " 'thank you to all of you in thi room .',\n",
              " 'i have to congratul the other incred nomine thi year .',\n",
              " 'the reven wa the product of the tireless effort of an unbeliev cast and crew .',\n",
              " 'first off , to my brother in thi endeavor , mr. tom hardi .',\n",
              " 'tom , your talent on screen can onli be surpass by your friendship off screen … thank you for creat a transcend cinemat experi .',\n",
              " 'thank you to everybodi at fox and new regenc … my entir team .',\n",
              " 'i have to thank everyon from the veri onset of my career … to my parent ; none of thi would be possibl without you .',\n",
              " \"and to my friend , i love you dearli ; you know who you are . '\"]"
            ]
          },
          "execution_count": 16,
          "metadata": {},
          "output_type": "execute_result"
        }
      ],
      "source": [
        "sentences"
      ]
    },
    {
      "cell_type": "code",
      "execution_count": null,
      "id": "41bccd17",
      "metadata": {
        "id": "41bccd17"
      },
      "outputs": [],
      "source": [
        "#Lemmatizer"
      ]
    },
    {
      "cell_type": "code",
      "execution_count": null,
      "id": "6f7c852e",
      "metadata": {
        "id": "6f7c852e",
        "outputId": "86ce5a4c-3eef-44bf-e990-c9c2fb5e9acc"
      },
      "outputs": [
        {
          "data": {
            "text/plain": [
              "\"'Thank you all so very much. Thank you to the Academy. Thank you to all of you in this room. I have to congratulate the other incredible nominees this year. The Revenant was the product of the tireless efforts of an unbelievable cast and crew. First off, to my brother in this endeavor, Mr. Tom Hardy. Tom, your talent on screen can only be surpassed by your friendship off screen … thank you for creating a transcendent cinematic experience. Thank you to everybody at Fox and New Regency … my entire team. I have to thank everyone from the very onset of my career … To my parents; none of this would be possible without you. And to my friends, I love you dearly; you know who you are.'\""
            ]
          },
          "execution_count": 18,
          "metadata": {},
          "output_type": "execute_result"
        }
      ],
      "source": [
        "paragraph"
      ]
    },
    {
      "cell_type": "code",
      "execution_count": null,
      "id": "5c8d7541",
      "metadata": {
        "id": "5c8d7541"
      },
      "outputs": [],
      "source": [
        "sentences = nltk.sent_tokenize(paragraph)"
      ]
    },
    {
      "cell_type": "code",
      "execution_count": null,
      "id": "a1293152",
      "metadata": {
        "id": "a1293152",
        "outputId": "265ff4a0-a475-4082-b821-fa0c7e41c553"
      },
      "outputs": [
        {
          "data": {
            "text/plain": [
              "[\"'Thank you all so very much.\",\n",
              " 'Thank you to the Academy.',\n",
              " 'Thank you to all of you in this room.',\n",
              " 'I have to congratulate the other incredible nominees this year.',\n",
              " 'The Revenant was the product of the tireless efforts of an unbelievable cast and crew.',\n",
              " 'First off, to my brother in this endeavor, Mr. Tom Hardy.',\n",
              " 'Tom, your talent on screen can only be surpassed by your friendship off screen … thank you for creating a transcendent cinematic experience.',\n",
              " 'Thank you to everybody at Fox and New Regency … my entire team.',\n",
              " 'I have to thank everyone from the very onset of my career … To my parents; none of this would be possible without you.',\n",
              " \"And to my friends, I love you dearly; you know who you are.'\"]"
            ]
          },
          "execution_count": 20,
          "metadata": {},
          "output_type": "execute_result"
        }
      ],
      "source": [
        "sentences"
      ]
    },
    {
      "cell_type": "code",
      "execution_count": null,
      "id": "7915b252",
      "metadata": {
        "id": "7915b252"
      },
      "outputs": [],
      "source": [
        "from nltk.stem import WordNetLemmatizer"
      ]
    },
    {
      "cell_type": "code",
      "execution_count": null,
      "id": "17fca19c",
      "metadata": {
        "id": "17fca19c"
      },
      "outputs": [],
      "source": [
        "lemmatizer = WordNetLemmatizer()"
      ]
    },
    {
      "cell_type": "code",
      "execution_count": null,
      "id": "549c7721",
      "metadata": {
        "id": "549c7721",
        "outputId": "5b72f217-2604-4eaf-8f7f-017618cbd2f8"
      },
      "outputs": [
        {
          "data": {
            "text/plain": [
              "<WordNetLemmatizer>"
            ]
          },
          "execution_count": 23,
          "metadata": {},
          "output_type": "execute_result"
        }
      ],
      "source": [
        "lemmatizer"
      ]
    },
    {
      "cell_type": "code",
      "execution_count": null,
      "id": "e8e78389",
      "metadata": {
        "id": "e8e78389"
      },
      "outputs": [],
      "source": [
        "for i in range(len(sentences)):\n",
        "    words = nltk.word_tokenize(sentences[i])\n",
        "    newwords = [lemmatizer.lemmatize(word) for word in words]\n",
        "    sentences[i] = \" \".join(newwords)"
      ]
    },
    {
      "cell_type": "code",
      "execution_count": null,
      "id": "4241b6ae",
      "metadata": {
        "id": "4241b6ae",
        "outputId": "09fb6f97-285b-49e1-d13d-8ecd6a51e091"
      },
      "outputs": [
        {
          "data": {
            "text/plain": [
              "[\"'Thank you all so very much .\",\n",
              " 'Thank you to the Academy .',\n",
              " 'Thank you to all of you in this room .',\n",
              " 'I have to congratulate the other incredible nominee this year .',\n",
              " 'The Revenant wa the product of the tireless effort of an unbelievable cast and crew .',\n",
              " 'First off , to my brother in this endeavor , Mr. Tom Hardy .',\n",
              " 'Tom , your talent on screen can only be surpassed by your friendship off screen … thank you for creating a transcendent cinematic experience .',\n",
              " 'Thank you to everybody at Fox and New Regency … my entire team .',\n",
              " 'I have to thank everyone from the very onset of my career … To my parent ; none of this would be possible without you .',\n",
              " \"And to my friend , I love you dearly ; you know who you are . '\"]"
            ]
          },
          "execution_count": 25,
          "metadata": {},
          "output_type": "execute_result"
        }
      ],
      "source": [
        "sentences"
      ]
    },
    {
      "cell_type": "code",
      "execution_count": null,
      "id": "b447cc4c",
      "metadata": {
        "id": "b447cc4c"
      },
      "outputs": [],
      "source": [
        "# Stop Words"
      ]
    },
    {
      "cell_type": "code",
      "execution_count": null,
      "id": "9f0f3335",
      "metadata": {
        "id": "9f0f3335",
        "outputId": "01fffac1-4ef3-4fca-c499-9ca9087bdc44"
      },
      "outputs": [
        {
          "data": {
            "text/plain": [
              "\"'Thank you all so very much. Thank you to the Academy. Thank you to all of you in this room. I have to congratulate the other incredible nominees this year. The Revenant was the product of the tireless efforts of an unbelievable cast and crew. First off, to my brother in this endeavor, Mr. Tom Hardy. Tom, your talent on screen can only be surpassed by your friendship off screen … thank you for creating a transcendent cinematic experience. Thank you to everybody at Fox and New Regency … my entire team. I have to thank everyone from the very onset of my career … To my parents; none of this would be possible without you. And to my friends, I love you dearly; you know who you are.'\""
            ]
          },
          "execution_count": 27,
          "metadata": {},
          "output_type": "execute_result"
        }
      ],
      "source": [
        "paragraph"
      ]
    },
    {
      "cell_type": "code",
      "execution_count": null,
      "id": "a875f54b",
      "metadata": {
        "id": "a875f54b"
      },
      "outputs": [],
      "source": [
        "from nltk.corpus import stopwords"
      ]
    },
    {
      "cell_type": "code",
      "execution_count": null,
      "id": "cb83d747",
      "metadata": {
        "id": "cb83d747"
      },
      "outputs": [],
      "source": [
        "for i in range(len(sentences)):\n",
        "    words = nltk.word_tokenize(sentences[i])\n",
        "    newwords = [word for word in words if word not in stopwords.words('english')]\n",
        "    sentences[i]=' '.join(newwords)"
      ]
    },
    {
      "cell_type": "code",
      "execution_count": null,
      "id": "9d2f736e",
      "metadata": {
        "id": "9d2f736e",
        "outputId": "808980b2-f240-4ab2-9a0e-07b2cfbc46b1"
      },
      "outputs": [
        {
          "data": {
            "text/plain": [
              "[\"'Thank much .\",\n",
              " 'Thank Academy .',\n",
              " 'Thank room .',\n",
              " 'I congratulate incredible nominee year .',\n",
              " 'The Revenant wa product tireless effort unbelievable cast crew .',\n",
              " 'First , brother endeavor , Mr. Tom Hardy .',\n",
              " 'Tom , talent screen surpassed friendship screen … thank creating transcendent cinematic experience .',\n",
              " 'Thank everybody Fox New Regency … entire team .',\n",
              " 'I thank everyone onset career … To parent ; none would possible without .',\n",
              " \"And friend , I love dearly ; know . '\"]"
            ]
          },
          "execution_count": 30,
          "metadata": {},
          "output_type": "execute_result"
        }
      ],
      "source": [
        "sentences"
      ]
    },
    {
      "cell_type": "code",
      "execution_count": null,
      "id": "3d80bd8f",
      "metadata": {
        "id": "3d80bd8f"
      },
      "outputs": [],
      "source": [
        "# Speech Tagging"
      ]
    },
    {
      "cell_type": "code",
      "execution_count": null,
      "id": "6bf1f9ec",
      "metadata": {
        "id": "6bf1f9ec",
        "outputId": "f08857f8-d708-4541-f331-abfb844bf8cb"
      },
      "outputs": [
        {
          "data": {
            "text/plain": [
              "\"'Thank you all so very much. Thank you to the Academy. Thank you to all of you in this room. I have to congratulate the other incredible nominees this year. The Revenant was the product of the tireless efforts of an unbelievable cast and crew. First off, to my brother in this endeavor, Mr. Tom Hardy. Tom, your talent on screen can only be surpassed by your friendship off screen … thank you for creating a transcendent cinematic experience. Thank you to everybody at Fox and New Regency … my entire team. I have to thank everyone from the very onset of my career … To my parents; none of this would be possible without you. And to my friends, I love you dearly; you know who you are.'\""
            ]
          },
          "execution_count": 32,
          "metadata": {},
          "output_type": "execute_result"
        }
      ],
      "source": [
        "paragraph"
      ]
    },
    {
      "cell_type": "code",
      "execution_count": null,
      "id": "b848426e",
      "metadata": {
        "id": "b848426e"
      },
      "outputs": [],
      "source": [
        "words = nltk.word_tokenize(paragraph)"
      ]
    },
    {
      "cell_type": "code",
      "execution_count": null,
      "id": "8abf6726",
      "metadata": {
        "id": "8abf6726",
        "outputId": "ab03e77d-fa3a-4ec6-b534-18ccae75bef4"
      },
      "outputs": [
        {
          "data": {
            "text/plain": [
              "[\"'Thank\",\n",
              " 'you',\n",
              " 'all',\n",
              " 'so',\n",
              " 'very',\n",
              " 'much',\n",
              " '.',\n",
              " 'Thank',\n",
              " 'you',\n",
              " 'to',\n",
              " 'the',\n",
              " 'Academy',\n",
              " '.',\n",
              " 'Thank',\n",
              " 'you',\n",
              " 'to',\n",
              " 'all',\n",
              " 'of',\n",
              " 'you',\n",
              " 'in',\n",
              " 'this',\n",
              " 'room',\n",
              " '.',\n",
              " 'I',\n",
              " 'have',\n",
              " 'to',\n",
              " 'congratulate',\n",
              " 'the',\n",
              " 'other',\n",
              " 'incredible',\n",
              " 'nominees',\n",
              " 'this',\n",
              " 'year',\n",
              " '.',\n",
              " 'The',\n",
              " 'Revenant',\n",
              " 'was',\n",
              " 'the',\n",
              " 'product',\n",
              " 'of',\n",
              " 'the',\n",
              " 'tireless',\n",
              " 'efforts',\n",
              " 'of',\n",
              " 'an',\n",
              " 'unbelievable',\n",
              " 'cast',\n",
              " 'and',\n",
              " 'crew',\n",
              " '.',\n",
              " 'First',\n",
              " 'off',\n",
              " ',',\n",
              " 'to',\n",
              " 'my',\n",
              " 'brother',\n",
              " 'in',\n",
              " 'this',\n",
              " 'endeavor',\n",
              " ',',\n",
              " 'Mr.',\n",
              " 'Tom',\n",
              " 'Hardy',\n",
              " '.',\n",
              " 'Tom',\n",
              " ',',\n",
              " 'your',\n",
              " 'talent',\n",
              " 'on',\n",
              " 'screen',\n",
              " 'can',\n",
              " 'only',\n",
              " 'be',\n",
              " 'surpassed',\n",
              " 'by',\n",
              " 'your',\n",
              " 'friendship',\n",
              " 'off',\n",
              " 'screen',\n",
              " '…',\n",
              " 'thank',\n",
              " 'you',\n",
              " 'for',\n",
              " 'creating',\n",
              " 'a',\n",
              " 'transcendent',\n",
              " 'cinematic',\n",
              " 'experience',\n",
              " '.',\n",
              " 'Thank',\n",
              " 'you',\n",
              " 'to',\n",
              " 'everybody',\n",
              " 'at',\n",
              " 'Fox',\n",
              " 'and',\n",
              " 'New',\n",
              " 'Regency',\n",
              " '…',\n",
              " 'my',\n",
              " 'entire',\n",
              " 'team',\n",
              " '.',\n",
              " 'I',\n",
              " 'have',\n",
              " 'to',\n",
              " 'thank',\n",
              " 'everyone',\n",
              " 'from',\n",
              " 'the',\n",
              " 'very',\n",
              " 'onset',\n",
              " 'of',\n",
              " 'my',\n",
              " 'career',\n",
              " '…',\n",
              " 'To',\n",
              " 'my',\n",
              " 'parents',\n",
              " ';',\n",
              " 'none',\n",
              " 'of',\n",
              " 'this',\n",
              " 'would',\n",
              " 'be',\n",
              " 'possible',\n",
              " 'without',\n",
              " 'you',\n",
              " '.',\n",
              " 'And',\n",
              " 'to',\n",
              " 'my',\n",
              " 'friends',\n",
              " ',',\n",
              " 'I',\n",
              " 'love',\n",
              " 'you',\n",
              " 'dearly',\n",
              " ';',\n",
              " 'you',\n",
              " 'know',\n",
              " 'who',\n",
              " 'you',\n",
              " 'are',\n",
              " '.',\n",
              " \"'\"]"
            ]
          },
          "execution_count": 34,
          "metadata": {},
          "output_type": "execute_result"
        }
      ],
      "source": [
        "words"
      ]
    },
    {
      "cell_type": "code",
      "execution_count": null,
      "id": "f8883d7d",
      "metadata": {
        "id": "f8883d7d"
      },
      "outputs": [],
      "source": [
        "tagged_word = nltk.pos_tag(words)"
      ]
    },
    {
      "cell_type": "code",
      "execution_count": null,
      "id": "10c4323b",
      "metadata": {
        "id": "10c4323b",
        "outputId": "24f2d75c-04fd-4786-f1ef-00ee90424ed8"
      },
      "outputs": [
        {
          "data": {
            "text/plain": [
              "[(\"'Thank\", 'IN'),\n",
              " ('you', 'PRP'),\n",
              " ('all', 'DT'),\n",
              " ('so', 'RB'),\n",
              " ('very', 'RB'),\n",
              " ('much', 'JJ'),\n",
              " ('.', '.'),\n",
              " ('Thank', 'VB'),\n",
              " ('you', 'PRP'),\n",
              " ('to', 'TO'),\n",
              " ('the', 'DT'),\n",
              " ('Academy', 'NNP'),\n",
              " ('.', '.'),\n",
              " ('Thank', 'NNP'),\n",
              " ('you', 'PRP'),\n",
              " ('to', 'TO'),\n",
              " ('all', 'DT'),\n",
              " ('of', 'IN'),\n",
              " ('you', 'PRP'),\n",
              " ('in', 'IN'),\n",
              " ('this', 'DT'),\n",
              " ('room', 'NN'),\n",
              " ('.', '.'),\n",
              " ('I', 'PRP'),\n",
              " ('have', 'VBP'),\n",
              " ('to', 'TO'),\n",
              " ('congratulate', 'VB'),\n",
              " ('the', 'DT'),\n",
              " ('other', 'JJ'),\n",
              " ('incredible', 'JJ'),\n",
              " ('nominees', 'NNS'),\n",
              " ('this', 'DT'),\n",
              " ('year', 'NN'),\n",
              " ('.', '.'),\n",
              " ('The', 'DT'),\n",
              " ('Revenant', 'NNP'),\n",
              " ('was', 'VBD'),\n",
              " ('the', 'DT'),\n",
              " ('product', 'NN'),\n",
              " ('of', 'IN'),\n",
              " ('the', 'DT'),\n",
              " ('tireless', 'NN'),\n",
              " ('efforts', 'NNS'),\n",
              " ('of', 'IN'),\n",
              " ('an', 'DT'),\n",
              " ('unbelievable', 'JJ'),\n",
              " ('cast', 'NN'),\n",
              " ('and', 'CC'),\n",
              " ('crew', 'NN'),\n",
              " ('.', '.'),\n",
              " ('First', 'NNP'),\n",
              " ('off', 'RB'),\n",
              " (',', ','),\n",
              " ('to', 'TO'),\n",
              " ('my', 'PRP$'),\n",
              " ('brother', 'NN'),\n",
              " ('in', 'IN'),\n",
              " ('this', 'DT'),\n",
              " ('endeavor', 'NN'),\n",
              " (',', ','),\n",
              " ('Mr.', 'NNP'),\n",
              " ('Tom', 'NNP'),\n",
              " ('Hardy', 'NNP'),\n",
              " ('.', '.'),\n",
              " ('Tom', 'NNP'),\n",
              " (',', ','),\n",
              " ('your', 'PRP$'),\n",
              " ('talent', 'NN'),\n",
              " ('on', 'IN'),\n",
              " ('screen', 'NN'),\n",
              " ('can', 'MD'),\n",
              " ('only', 'RB'),\n",
              " ('be', 'VB'),\n",
              " ('surpassed', 'VBN'),\n",
              " ('by', 'IN'),\n",
              " ('your', 'PRP$'),\n",
              " ('friendship', 'NN'),\n",
              " ('off', 'IN'),\n",
              " ('screen', 'JJ'),\n",
              " ('…', 'NNP'),\n",
              " ('thank', 'NN'),\n",
              " ('you', 'PRP'),\n",
              " ('for', 'IN'),\n",
              " ('creating', 'VBG'),\n",
              " ('a', 'DT'),\n",
              " ('transcendent', 'JJ'),\n",
              " ('cinematic', 'JJ'),\n",
              " ('experience', 'NN'),\n",
              " ('.', '.'),\n",
              " ('Thank', 'NNP'),\n",
              " ('you', 'PRP'),\n",
              " ('to', 'TO'),\n",
              " ('everybody', 'VB'),\n",
              " ('at', 'IN'),\n",
              " ('Fox', 'NNP'),\n",
              " ('and', 'CC'),\n",
              " ('New', 'NNP'),\n",
              " ('Regency', 'NNP'),\n",
              " ('…', 'NNP'),\n",
              " ('my', 'PRP$'),\n",
              " ('entire', 'JJ'),\n",
              " ('team', 'NN'),\n",
              " ('.', '.'),\n",
              " ('I', 'PRP'),\n",
              " ('have', 'VBP'),\n",
              " ('to', 'TO'),\n",
              " ('thank', 'VB'),\n",
              " ('everyone', 'NN'),\n",
              " ('from', 'IN'),\n",
              " ('the', 'DT'),\n",
              " ('very', 'RB'),\n",
              " ('onset', 'NN'),\n",
              " ('of', 'IN'),\n",
              " ('my', 'PRP$'),\n",
              " ('career', 'NN'),\n",
              " ('…', 'NN'),\n",
              " ('To', 'TO'),\n",
              " ('my', 'PRP$'),\n",
              " ('parents', 'NNS'),\n",
              " (';', ':'),\n",
              " ('none', 'NN'),\n",
              " ('of', 'IN'),\n",
              " ('this', 'DT'),\n",
              " ('would', 'MD'),\n",
              " ('be', 'VB'),\n",
              " ('possible', 'JJ'),\n",
              " ('without', 'IN'),\n",
              " ('you', 'PRP'),\n",
              " ('.', '.'),\n",
              " ('And', 'CC'),\n",
              " ('to', 'TO'),\n",
              " ('my', 'PRP$'),\n",
              " ('friends', 'NNS'),\n",
              " (',', ','),\n",
              " ('I', 'PRP'),\n",
              " ('love', 'VBP'),\n",
              " ('you', 'PRP'),\n",
              " ('dearly', 'RB'),\n",
              " (';', ':'),\n",
              " ('you', 'PRP'),\n",
              " ('know', 'VBP'),\n",
              " ('who', 'WP'),\n",
              " ('you', 'PRP'),\n",
              " ('are', 'VBP'),\n",
              " ('.', '.'),\n",
              " (\"'\", \"''\")]"
            ]
          },
          "execution_count": 36,
          "metadata": {},
          "output_type": "execute_result"
        }
      ],
      "source": [
        "tagged_word"
      ]
    },
    {
      "cell_type": "code",
      "execution_count": null,
      "id": "914940c8",
      "metadata": {
        "id": "914940c8"
      },
      "outputs": [],
      "source": [
        "paragraph_new = \" The Taj Mahal was Built by Emperor shah jahan in India on 9 july 1986\""
      ]
    },
    {
      "cell_type": "code",
      "execution_count": null,
      "id": "6b5e1be1",
      "metadata": {
        "id": "6b5e1be1",
        "outputId": "5d6e256f-30ef-4fee-947c-e8e7f6f1e6c0"
      },
      "outputs": [
        {
          "data": {
            "text/plain": [
              "' The Taj Mahal was Built by Emperor shah jahan in India on 9 july 1986'"
            ]
          },
          "execution_count": 38,
          "metadata": {},
          "output_type": "execute_result"
        }
      ],
      "source": [
        "paragraph_new"
      ]
    },
    {
      "cell_type": "code",
      "execution_count": null,
      "id": "e2612acd",
      "metadata": {
        "id": "e2612acd"
      },
      "outputs": [],
      "source": [
        "words_new=nltk.word_tokenize(paragraph_new)"
      ]
    },
    {
      "cell_type": "code",
      "execution_count": null,
      "id": "2948407e",
      "metadata": {
        "id": "2948407e",
        "outputId": "b8b218fa-58c6-4de3-887f-7a0eee2739c6"
      },
      "outputs": [
        {
          "data": {
            "text/plain": [
              "['The',\n",
              " 'Taj',\n",
              " 'Mahal',\n",
              " 'was',\n",
              " 'Built',\n",
              " 'by',\n",
              " 'Emperor',\n",
              " 'shah',\n",
              " 'jahan',\n",
              " 'in',\n",
              " 'India',\n",
              " 'on',\n",
              " '9',\n",
              " 'july',\n",
              " '1986']"
            ]
          },
          "execution_count": 40,
          "metadata": {},
          "output_type": "execute_result"
        }
      ],
      "source": [
        "words_new"
      ]
    },
    {
      "cell_type": "code",
      "execution_count": null,
      "id": "ddcbb0d9",
      "metadata": {
        "id": "ddcbb0d9"
      },
      "outputs": [],
      "source": [
        "tagged_words_new=nltk.pos_tag(words_new)"
      ]
    },
    {
      "cell_type": "code",
      "execution_count": null,
      "id": "8445f194",
      "metadata": {
        "id": "8445f194",
        "outputId": "6e3db32e-cc38-4e38-ca44-01e42af166c5"
      },
      "outputs": [
        {
          "data": {
            "text/plain": [
              "[('The', 'DT'),\n",
              " ('Taj', 'NNP'),\n",
              " ('Mahal', 'NNP'),\n",
              " ('was', 'VBD'),\n",
              " ('Built', 'VBN'),\n",
              " ('by', 'IN'),\n",
              " ('Emperor', 'NNP'),\n",
              " ('shah', 'NN'),\n",
              " ('jahan', 'NN'),\n",
              " ('in', 'IN'),\n",
              " ('India', 'NNP'),\n",
              " ('on', 'IN'),\n",
              " ('9', 'CD'),\n",
              " ('july', 'NN'),\n",
              " ('1986', 'CD')]"
            ]
          },
          "execution_count": 42,
          "metadata": {},
          "output_type": "execute_result"
        }
      ],
      "source": [
        "tagged_words_new"
      ]
    },
    {
      "cell_type": "code",
      "execution_count": null,
      "id": "95ee863c",
      "metadata": {
        "id": "95ee863c"
      },
      "outputs": [],
      "source": [
        ""
      ]
    }
  ],
  "metadata": {
    "kernelspec": {
      "display_name": "Python 3",
      "language": "python",
      "name": "python3"
    },
    "language_info": {
      "codemirror_mode": {
        "name": "ipython",
        "version": 3
      },
      "file_extension": ".py",
      "mimetype": "text/x-python",
      "name": "python",
      "nbconvert_exporter": "python",
      "pygments_lexer": "ipython3",
      "version": "3.6.13"
    },
    "colab": {
      "name": "15_02_NLTK_N.ipynb",
      "provenance": []
    }
  },
  "nbformat": 4,
  "nbformat_minor": 5
}