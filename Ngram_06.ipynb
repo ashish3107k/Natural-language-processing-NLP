{
  "cells": [
    {
      "cell_type": "code",
      "execution_count": null,
      "id": "6b11b7bb",
      "metadata": {
        "id": "6b11b7bb"
      },
      "outputs": [],
      "source": [
        "text = \"\"\"'The climate has continuously changing for centuries. The global warming happens because the natural rotation of the sun that changes the intensity of sunlight and moving closer to the earth. Another cause of global warming is greenhouse gases. Greenhouse gases are carbon monoxide and sulphur dioxide it trap the solar heats rays and prevent it from escaping from the surface of the earth. This has cause the temperature of the earth increase. Volcanic eruptions are another issue that causes global warming. For instance, a single volcanic eruption will release amount of carbon dioxide and ash to the atmosphere. Once carbon dioxide increase, the temperature of earth increase and greenhouse trap the solar radiations in the earth. Finally, methane is another issue that causes global warming. Methane is also a greenhouse gas. Methane is more effective in trapping heat in the atmosphere that carbon dioxide by 20 times. Usually methane gas can release from many areas. For instance, it can be from cattle, landfill, natural gas, petroleum systems, coal mining, mobile explosion, or industrial waste process.' \"\"\""
      ]
    },
    {
      "cell_type": "code",
      "execution_count": null,
      "id": "53b110a7",
      "metadata": {
        "id": "53b110a7",
        "outputId": "310eb4a0-5ceb-437a-d591-4317b86366c7"
      },
      "outputs": [
        {
          "data": {
            "text/plain": [
              "\"'The climate has continuously changing for centuries. The global warming happens because the natural rotation of the sun that changes the intensity of sunlight and moving closer to the earth. Another cause of global warming is greenhouse gases. Greenhouse gases are carbon monoxide and sulphur dioxide it trap the solar heats rays and prevent it from escaping from the surface of the earth. This has cause the temperature of the earth increase. Volcanic eruptions are another issue that causes global warming. For instance, a single volcanic eruption will release amount of carbon dioxide and ash to the atmosphere. Once carbon dioxide increase, the temperature of earth increase and greenhouse trap the solar radiations in the earth. Finally, methane is another issue that causes global warming. Methane is also a greenhouse gas. Methane is more effective in trapping heat in the atmosphere that carbon dioxide by 20 times. Usually methane gas can release from many areas. For instance, it can be from cattle, landfill, natural gas, petroleum systems, coal mining, mobile explosion, or industrial waste process.' \""
            ]
          },
          "execution_count": 2,
          "metadata": {},
          "output_type": "execute_result"
        }
      ],
      "source": [
        "text"
      ]
    },
    {
      "cell_type": "code",
      "execution_count": null,
      "id": "31aa466e",
      "metadata": {
        "id": "31aa466e"
      },
      "outputs": [],
      "source": [
        "import random\n",
        "import nltk"
      ]
    },
    {
      "cell_type": "code",
      "execution_count": null,
      "id": "4fcdd8c6",
      "metadata": {
        "id": "4fcdd8c6"
      },
      "outputs": [],
      "source": [
        "n = 2"
      ]
    },
    {
      "cell_type": "code",
      "execution_count": null,
      "id": "33720e4f",
      "metadata": {
        "id": "33720e4f"
      },
      "outputs": [],
      "source": [
        "words = nltk.word_tokenize(text)"
      ]
    },
    {
      "cell_type": "code",
      "execution_count": null,
      "id": "9ac08ea2",
      "metadata": {
        "id": "9ac08ea2",
        "outputId": "0c522324-b1a7-4bf5-dd86-3c1513671096"
      },
      "outputs": [
        {
          "data": {
            "text/plain": [
              "[\"'The\",\n",
              " 'climate',\n",
              " 'has',\n",
              " 'continuously',\n",
              " 'changing',\n",
              " 'for',\n",
              " 'centuries',\n",
              " '.',\n",
              " 'The',\n",
              " 'global',\n",
              " 'warming',\n",
              " 'happens',\n",
              " 'because',\n",
              " 'the',\n",
              " 'natural',\n",
              " 'rotation',\n",
              " 'of',\n",
              " 'the',\n",
              " 'sun',\n",
              " 'that',\n",
              " 'changes',\n",
              " 'the',\n",
              " 'intensity',\n",
              " 'of',\n",
              " 'sunlight',\n",
              " 'and',\n",
              " 'moving',\n",
              " 'closer',\n",
              " 'to',\n",
              " 'the',\n",
              " 'earth',\n",
              " '.',\n",
              " 'Another',\n",
              " 'cause',\n",
              " 'of',\n",
              " 'global',\n",
              " 'warming',\n",
              " 'is',\n",
              " 'greenhouse',\n",
              " 'gases',\n",
              " '.',\n",
              " 'Greenhouse',\n",
              " 'gases',\n",
              " 'are',\n",
              " 'carbon',\n",
              " 'monoxide',\n",
              " 'and',\n",
              " 'sulphur',\n",
              " 'dioxide',\n",
              " 'it',\n",
              " 'trap',\n",
              " 'the',\n",
              " 'solar',\n",
              " 'heats',\n",
              " 'rays',\n",
              " 'and',\n",
              " 'prevent',\n",
              " 'it',\n",
              " 'from',\n",
              " 'escaping',\n",
              " 'from',\n",
              " 'the',\n",
              " 'surface',\n",
              " 'of',\n",
              " 'the',\n",
              " 'earth',\n",
              " '.',\n",
              " 'This',\n",
              " 'has',\n",
              " 'cause',\n",
              " 'the',\n",
              " 'temperature',\n",
              " 'of',\n",
              " 'the',\n",
              " 'earth',\n",
              " 'increase',\n",
              " '.',\n",
              " 'Volcanic',\n",
              " 'eruptions',\n",
              " 'are',\n",
              " 'another',\n",
              " 'issue',\n",
              " 'that',\n",
              " 'causes',\n",
              " 'global',\n",
              " 'warming',\n",
              " '.',\n",
              " 'For',\n",
              " 'instance',\n",
              " ',',\n",
              " 'a',\n",
              " 'single',\n",
              " 'volcanic',\n",
              " 'eruption',\n",
              " 'will',\n",
              " 'release',\n",
              " 'amount',\n",
              " 'of',\n",
              " 'carbon',\n",
              " 'dioxide',\n",
              " 'and',\n",
              " 'ash',\n",
              " 'to',\n",
              " 'the',\n",
              " 'atmosphere',\n",
              " '.',\n",
              " 'Once',\n",
              " 'carbon',\n",
              " 'dioxide',\n",
              " 'increase',\n",
              " ',',\n",
              " 'the',\n",
              " 'temperature',\n",
              " 'of',\n",
              " 'earth',\n",
              " 'increase',\n",
              " 'and',\n",
              " 'greenhouse',\n",
              " 'trap',\n",
              " 'the',\n",
              " 'solar',\n",
              " 'radiations',\n",
              " 'in',\n",
              " 'the',\n",
              " 'earth',\n",
              " '.',\n",
              " 'Finally',\n",
              " ',',\n",
              " 'methane',\n",
              " 'is',\n",
              " 'another',\n",
              " 'issue',\n",
              " 'that',\n",
              " 'causes',\n",
              " 'global',\n",
              " 'warming',\n",
              " '.',\n",
              " 'Methane',\n",
              " 'is',\n",
              " 'also',\n",
              " 'a',\n",
              " 'greenhouse',\n",
              " 'gas',\n",
              " '.',\n",
              " 'Methane',\n",
              " 'is',\n",
              " 'more',\n",
              " 'effective',\n",
              " 'in',\n",
              " 'trapping',\n",
              " 'heat',\n",
              " 'in',\n",
              " 'the',\n",
              " 'atmosphere',\n",
              " 'that',\n",
              " 'carbon',\n",
              " 'dioxide',\n",
              " 'by',\n",
              " '20',\n",
              " 'times',\n",
              " '.',\n",
              " 'Usually',\n",
              " 'methane',\n",
              " 'gas',\n",
              " 'can',\n",
              " 'release',\n",
              " 'from',\n",
              " 'many',\n",
              " 'areas',\n",
              " '.',\n",
              " 'For',\n",
              " 'instance',\n",
              " ',',\n",
              " 'it',\n",
              " 'can',\n",
              " 'be',\n",
              " 'from',\n",
              " 'cattle',\n",
              " ',',\n",
              " 'landfill',\n",
              " ',',\n",
              " 'natural',\n",
              " 'gas',\n",
              " ',',\n",
              " 'petroleum',\n",
              " 'systems',\n",
              " ',',\n",
              " 'coal',\n",
              " 'mining',\n",
              " ',',\n",
              " 'mobile',\n",
              " 'explosion',\n",
              " ',',\n",
              " 'or',\n",
              " 'industrial',\n",
              " 'waste',\n",
              " 'process',\n",
              " '.',\n",
              " \"'\"]"
            ]
          },
          "execution_count": 6,
          "metadata": {},
          "output_type": "execute_result"
        }
      ],
      "source": [
        "words"
      ]
    },
    {
      "cell_type": "code",
      "execution_count": null,
      "id": "cf79bdb9",
      "metadata": {
        "id": "cf79bdb9",
        "outputId": "c42be139-6b8d-4ff8-d71d-27cbd3d8848b"
      },
      "outputs": [
        {
          "data": {
            "text/plain": [
              "199"
            ]
          },
          "execution_count": 7,
          "metadata": {},
          "output_type": "execute_result"
        }
      ],
      "source": [
        "len(words)"
      ]
    },
    {
      "cell_type": "code",
      "execution_count": null,
      "id": "8cb90156",
      "metadata": {
        "id": "8cb90156"
      },
      "outputs": [],
      "source": [
        "ngrams = {}"
      ]
    },
    {
      "cell_type": "code",
      "execution_count": null,
      "id": "2d287457",
      "metadata": {
        "id": "2d287457"
      },
      "outputs": [],
      "source": [
        "for i in range(len(words)-n):\n",
        "    gram = ' '.join(words[i:i+n])\n",
        "    if gram not in ngrams.keys():\n",
        "        ngrams[gram] = []\n",
        "    ngrams[gram].append(words[i+n])"
      ]
    },
    {
      "cell_type": "code",
      "execution_count": null,
      "id": "98a70c5f",
      "metadata": {
        "id": "98a70c5f",
        "outputId": "82494347-f544-4c92-ca3e-28f80ef11869"
      },
      "outputs": [
        {
          "data": {
            "text/plain": [
              "{\"'The climate\": ['has'],\n",
              " 'climate has': ['continuously'],\n",
              " 'has continuously': ['changing'],\n",
              " 'continuously changing': ['for'],\n",
              " 'changing for': ['centuries'],\n",
              " 'for centuries': ['.'],\n",
              " 'centuries .': ['The'],\n",
              " '. The': ['global'],\n",
              " 'The global': ['warming'],\n",
              " 'global warming': ['happens', 'is', '.', '.'],\n",
              " 'warming happens': ['because'],\n",
              " 'happens because': ['the'],\n",
              " 'because the': ['natural'],\n",
              " 'the natural': ['rotation'],\n",
              " 'natural rotation': ['of'],\n",
              " 'rotation of': ['the'],\n",
              " 'of the': ['sun', 'earth', 'earth'],\n",
              " 'the sun': ['that'],\n",
              " 'sun that': ['changes'],\n",
              " 'that changes': ['the'],\n",
              " 'changes the': ['intensity'],\n",
              " 'the intensity': ['of'],\n",
              " 'intensity of': ['sunlight'],\n",
              " 'of sunlight': ['and'],\n",
              " 'sunlight and': ['moving'],\n",
              " 'and moving': ['closer'],\n",
              " 'moving closer': ['to'],\n",
              " 'closer to': ['the'],\n",
              " 'to the': ['earth', 'atmosphere'],\n",
              " 'the earth': ['.', '.', 'increase', '.'],\n",
              " 'earth .': ['Another', 'This', 'Finally'],\n",
              " '. Another': ['cause'],\n",
              " 'Another cause': ['of'],\n",
              " 'cause of': ['global'],\n",
              " 'of global': ['warming'],\n",
              " 'warming is': ['greenhouse'],\n",
              " 'is greenhouse': ['gases'],\n",
              " 'greenhouse gases': ['.'],\n",
              " 'gases .': ['Greenhouse'],\n",
              " '. Greenhouse': ['gases'],\n",
              " 'Greenhouse gases': ['are'],\n",
              " 'gases are': ['carbon'],\n",
              " 'are carbon': ['monoxide'],\n",
              " 'carbon monoxide': ['and'],\n",
              " 'monoxide and': ['sulphur'],\n",
              " 'and sulphur': ['dioxide'],\n",
              " 'sulphur dioxide': ['it'],\n",
              " 'dioxide it': ['trap'],\n",
              " 'it trap': ['the'],\n",
              " 'trap the': ['solar', 'solar'],\n",
              " 'the solar': ['heats', 'radiations'],\n",
              " 'solar heats': ['rays'],\n",
              " 'heats rays': ['and'],\n",
              " 'rays and': ['prevent'],\n",
              " 'and prevent': ['it'],\n",
              " 'prevent it': ['from'],\n",
              " 'it from': ['escaping'],\n",
              " 'from escaping': ['from'],\n",
              " 'escaping from': ['the'],\n",
              " 'from the': ['surface'],\n",
              " 'the surface': ['of'],\n",
              " 'surface of': ['the'],\n",
              " '. This': ['has'],\n",
              " 'This has': ['cause'],\n",
              " 'has cause': ['the'],\n",
              " 'cause the': ['temperature'],\n",
              " 'the temperature': ['of', 'of'],\n",
              " 'temperature of': ['the', 'earth'],\n",
              " 'earth increase': ['.', 'and'],\n",
              " 'increase .': ['Volcanic'],\n",
              " '. Volcanic': ['eruptions'],\n",
              " 'Volcanic eruptions': ['are'],\n",
              " 'eruptions are': ['another'],\n",
              " 'are another': ['issue'],\n",
              " 'another issue': ['that', 'that'],\n",
              " 'issue that': ['causes', 'causes'],\n",
              " 'that causes': ['global', 'global'],\n",
              " 'causes global': ['warming', 'warming'],\n",
              " 'warming .': ['For', 'Methane'],\n",
              " '. For': ['instance', 'instance'],\n",
              " 'For instance': [',', ','],\n",
              " 'instance ,': ['a', 'it'],\n",
              " ', a': ['single'],\n",
              " 'a single': ['volcanic'],\n",
              " 'single volcanic': ['eruption'],\n",
              " 'volcanic eruption': ['will'],\n",
              " 'eruption will': ['release'],\n",
              " 'will release': ['amount'],\n",
              " 'release amount': ['of'],\n",
              " 'amount of': ['carbon'],\n",
              " 'of carbon': ['dioxide'],\n",
              " 'carbon dioxide': ['and', 'increase', 'by'],\n",
              " 'dioxide and': ['ash'],\n",
              " 'and ash': ['to'],\n",
              " 'ash to': ['the'],\n",
              " 'the atmosphere': ['.', 'that'],\n",
              " 'atmosphere .': ['Once'],\n",
              " '. Once': ['carbon'],\n",
              " 'Once carbon': ['dioxide'],\n",
              " 'dioxide increase': [','],\n",
              " 'increase ,': ['the'],\n",
              " ', the': ['temperature'],\n",
              " 'of earth': ['increase'],\n",
              " 'increase and': ['greenhouse'],\n",
              " 'and greenhouse': ['trap'],\n",
              " 'greenhouse trap': ['the'],\n",
              " 'solar radiations': ['in'],\n",
              " 'radiations in': ['the'],\n",
              " 'in the': ['earth', 'atmosphere'],\n",
              " '. Finally': [','],\n",
              " 'Finally ,': ['methane'],\n",
              " ', methane': ['is'],\n",
              " 'methane is': ['another'],\n",
              " 'is another': ['issue'],\n",
              " '. Methane': ['is', 'is'],\n",
              " 'Methane is': ['also', 'more'],\n",
              " 'is also': ['a'],\n",
              " 'also a': ['greenhouse'],\n",
              " 'a greenhouse': ['gas'],\n",
              " 'greenhouse gas': ['.'],\n",
              " 'gas .': ['Methane'],\n",
              " 'is more': ['effective'],\n",
              " 'more effective': ['in'],\n",
              " 'effective in': ['trapping'],\n",
              " 'in trapping': ['heat'],\n",
              " 'trapping heat': ['in'],\n",
              " 'heat in': ['the'],\n",
              " 'atmosphere that': ['carbon'],\n",
              " 'that carbon': ['dioxide'],\n",
              " 'dioxide by': ['20'],\n",
              " 'by 20': ['times'],\n",
              " '20 times': ['.'],\n",
              " 'times .': ['Usually'],\n",
              " '. Usually': ['methane'],\n",
              " 'Usually methane': ['gas'],\n",
              " 'methane gas': ['can'],\n",
              " 'gas can': ['release'],\n",
              " 'can release': ['from'],\n",
              " 'release from': ['many'],\n",
              " 'from many': ['areas'],\n",
              " 'many areas': ['.'],\n",
              " 'areas .': ['For'],\n",
              " ', it': ['can'],\n",
              " 'it can': ['be'],\n",
              " 'can be': ['from'],\n",
              " 'be from': ['cattle'],\n",
              " 'from cattle': [','],\n",
              " 'cattle ,': ['landfill'],\n",
              " ', landfill': [','],\n",
              " 'landfill ,': ['natural'],\n",
              " ', natural': ['gas'],\n",
              " 'natural gas': [','],\n",
              " 'gas ,': ['petroleum'],\n",
              " ', petroleum': ['systems'],\n",
              " 'petroleum systems': [','],\n",
              " 'systems ,': ['coal'],\n",
              " ', coal': ['mining'],\n",
              " 'coal mining': [','],\n",
              " 'mining ,': ['mobile'],\n",
              " ', mobile': ['explosion'],\n",
              " 'mobile explosion': [','],\n",
              " 'explosion ,': ['or'],\n",
              " ', or': ['industrial'],\n",
              " 'or industrial': ['waste'],\n",
              " 'industrial waste': ['process'],\n",
              " 'waste process': ['.'],\n",
              " 'process .': [\"'\"]}"
            ]
          },
          "execution_count": 10,
          "metadata": {},
          "output_type": "execute_result"
        }
      ],
      "source": [
        "\n",
        "ngrams"
      ]
    },
    {
      "cell_type": "code",
      "execution_count": null,
      "id": "153a0bac",
      "metadata": {
        "id": "153a0bac"
      },
      "outputs": [],
      "source": [
        "currentgram = ' '.join(words[0:n])"
      ]
    },
    {
      "cell_type": "code",
      "execution_count": null,
      "id": "ad9fcecb",
      "metadata": {
        "id": "ad9fcecb",
        "outputId": "bbe42f7b-df3b-48ea-c0f0-36147fb17fc1"
      },
      "outputs": [
        {
          "data": {
            "text/plain": [
              "\"'The climate\""
            ]
          },
          "execution_count": 12,
          "metadata": {},
          "output_type": "execute_result"
        }
      ],
      "source": [
        "currentgram"
      ]
    },
    {
      "cell_type": "code",
      "execution_count": null,
      "id": "87e30649",
      "metadata": {
        "id": "87e30649"
      },
      "outputs": [],
      "source": [
        "result = currentgram\n",
        "for i in range(30):\n",
        "    if currentgram not in ngrams.keys():\n",
        "           break\n",
        "    possibilities = ngrams[currentgram]\n",
        "    nextitem = possibilities[random.randrange(len(possibilities))]\n",
        "    result += ' '+nextitem\n",
        "    rwords = nltk.word_tokenize(result)\n",
        "    currentgram = ' '.join(rwords[len(rwords)-n:len(rwords)])"
      ]
    },
    {
      "cell_type": "code",
      "execution_count": null,
      "id": "a8debcea",
      "metadata": {
        "id": "a8debcea",
        "outputId": "4299f7b6-3afd-418a-88a2-ce0a20d2028a"
      },
      "outputs": [
        {
          "data": {
            "text/plain": [
              "'earth .'"
            ]
          },
          "execution_count": 19,
          "metadata": {},
          "output_type": "execute_result"
        }
      ],
      "source": [
        "currentgram"
      ]
    },
    {
      "cell_type": "code",
      "execution_count": null,
      "id": "0944249e",
      "metadata": {
        "id": "0944249e",
        "outputId": "ef2fa50b-4e90-4044-d590-9f5c4a810fe0"
      },
      "outputs": [
        {
          "name": "stdout",
          "output_type": "stream",
          "text": [
            "'The climate has continuously changing for centuries . The global warming is greenhouse gases . Greenhouse gases are carbon monoxide and sulphur dioxide it trap the solar radiations in the earth .\n"
          ]
        }
      ],
      "source": [
        "print(result)"
      ]
    },
    {
      "cell_type": "code",
      "execution_count": null,
      "id": "2af91846",
      "metadata": {
        "id": "2af91846"
      },
      "outputs": [],
      "source": [
        ""
      ]
    }
  ],
  "metadata": {
    "kernelspec": {
      "display_name": "Python 3",
      "language": "python",
      "name": "python3"
    },
    "language_info": {
      "codemirror_mode": {
        "name": "ipython",
        "version": 3
      },
      "file_extension": ".py",
      "mimetype": "text/x-python",
      "name": "python",
      "nbconvert_exporter": "python",
      "pygments_lexer": "ipython3",
      "version": "3.6.13"
    },
    "colab": {
      "name": "23_02_ngram.ipynb",
      "provenance": []
    }
  },
  "nbformat": 4,
  "nbformat_minor": 5
}