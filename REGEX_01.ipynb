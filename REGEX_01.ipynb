{
  "cells": [
    {
      "cell_type": "code",
      "execution_count": null,
      "id": "937c1670",
      "metadata": {
        "id": "937c1670"
      },
      "outputs": [],
      "source": [
        "import re"
      ]
    },
    {
      "cell_type": "code",
      "execution_count": null,
      "id": "dd79fc26",
      "metadata": {
        "id": "dd79fc26"
      },
      "outputs": [],
      "source": [
        "sentence = \" I was born in the year 1995, in nagpur at 8 pm \""
      ]
    },
    {
      "cell_type": "code",
      "execution_count": null,
      "id": "5993dcbe",
      "metadata": {
        "id": "5993dcbe",
        "outputId": "95721d3a-858c-4649-cea6-c0ff9caf9c9d"
      },
      "outputs": [
        {
          "data": {
            "text/plain": [
              "' I was born in the year 1995, in nagpur at 8 pm '"
            ]
          },
          "execution_count": 5,
          "metadata": {},
          "output_type": "execute_result"
        }
      ],
      "source": [
        "sentence"
      ]
    },
    {
      "cell_type": "code",
      "execution_count": null,
      "id": "b40b8f0b",
      "metadata": {
        "id": "b40b8f0b",
        "outputId": "932993bb-5259-4b76-def3-490ab4a4a155"
      },
      "outputs": [
        {
          "data": {
            "text/plain": [
              "' I was born in the year     , in nagpur at   pm '"
            ]
          },
          "execution_count": 6,
          "metadata": {},
          "output_type": "execute_result"
        }
      ],
      "source": [
        "re.sub(r\"\\d\",' ',sentence)"
      ]
    },
    {
      "cell_type": "code",
      "execution_count": null,
      "id": "6a6698ed",
      "metadata": {
        "id": "6a6698ed",
        "outputId": "f9bad581-8245-4c12-f04b-a6df10a05bb3"
      },
      "outputs": [
        {
          "data": {
            "text/plain": [
              "'                        1995               8    '"
            ]
          },
          "execution_count": 7,
          "metadata": {},
          "output_type": "execute_result"
        }
      ],
      "source": [
        "re.sub(r\"\\D\",' ',sentence)"
      ]
    },
    {
      "cell_type": "code",
      "execution_count": null,
      "id": "6bfda696",
      "metadata": {
        "id": "6bfda696",
        "outputId": "8e913b06-0349-411d-9c69-f9d31414a9e5"
      },
      "outputs": [
        {
          "data": {
            "text/plain": [
              "'########################1995###############8####'"
            ]
          },
          "execution_count": 8,
          "metadata": {},
          "output_type": "execute_result"
        }
      ],
      "source": [
        "re.sub(r\"\\D\",'#',sentence)"
      ]
    },
    {
      "cell_type": "code",
      "execution_count": null,
      "id": "c6665c65",
      "metadata": {
        "id": "c6665c65",
        "outputId": "2c9e9654-1e37-4891-92ac-51225da2cd99"
      },
      "outputs": [
        {
          "data": {
            "text/plain": [
              "' I was born in the year     , in nagpur at   pm '"
            ]
          },
          "execution_count": 9,
          "metadata": {},
          "output_type": "execute_result"
        }
      ],
      "source": [
        "re.sub(r\"[0-9]\",' ',sentence)"
      ]
    },
    {
      "cell_type": "code",
      "execution_count": null,
      "id": "f5f20bad",
      "metadata": {
        "id": "f5f20bad",
        "outputId": "47d630ce-1a35-4f8a-c35d-3d2e6ff2874e"
      },
      "outputs": [
        {
          "data": {
            "text/plain": [
              "' I                      1995,              8    '"
            ]
          },
          "execution_count": 10,
          "metadata": {},
          "output_type": "execute_result"
        }
      ],
      "source": [
        "re.sub(r\"[a-z]\",' ',sentence)"
      ]
    },
    {
      "cell_type": "code",
      "execution_count": null,
      "id": "4af01e57",
      "metadata": {
        "id": "4af01e57",
        "outputId": "1dbef984-e370-48be-8e66-12f76a14ece7"
      },
      "outputs": [
        {
          "data": {
            "text/plain": [
              "' # ### #### ## ### #### 1995, ## ###### ## 8 ## '"
            ]
          },
          "execution_count": 11,
          "metadata": {},
          "output_type": "execute_result"
        }
      ],
      "source": [
        "re.sub(r\"[a-zA-Z]\",'#',sentence)"
      ]
    },
    {
      "cell_type": "code",
      "execution_count": null,
      "id": "3a6d1d09",
      "metadata": {
        "id": "3a6d1d09",
        "outputId": "154ecfa7-6a9a-4708-95d8-2c95f03d1d80"
      },
      "outputs": [
        {
          "data": {
            "text/plain": [
              "' # ### #### ## ### #### ####, ## ###### ## # ## '"
            ]
          },
          "execution_count": 12,
          "metadata": {},
          "output_type": "execute_result"
        }
      ],
      "source": [
        "re.sub(r\"[a-zA-Z0-9]\",'#',sentence)"
      ]
    },
    {
      "cell_type": "code",
      "execution_count": null,
      "id": "2aefa0cb",
      "metadata": {
        "id": "2aefa0cb",
        "outputId": "cb2f9cd7-6694-43b3-c412-b6b47f7e5e98"
      },
      "outputs": [
        {
          "data": {
            "text/plain": [
              "'#I#was#born#in#the#year#1995##in#nagpur#at#8#pm#'"
            ]
          },
          "execution_count": 13,
          "metadata": {},
          "output_type": "execute_result"
        }
      ],
      "source": [
        "re.sub(r\"\\W\",'#',sentence)"
      ]
    },
    {
      "cell_type": "code",
      "execution_count": null,
      "id": "12e091e5",
      "metadata": {
        "id": "12e091e5",
        "outputId": "0a5c6e37-0a1c-4154-a101-70deeb2218fd"
      },
      "outputs": [
        {
          "data": {
            "text/plain": [
              "' # ### #### ## ### #### ####, ## ###### ## # ## '"
            ]
          },
          "execution_count": 14,
          "metadata": {},
          "output_type": "execute_result"
        }
      ],
      "source": [
        "re.sub(r\"\\w\",'#',sentence)"
      ]
    },
    {
      "cell_type": "code",
      "execution_count": null,
      "id": "d9d0f344",
      "metadata": {
        "id": "d9d0f344",
        "outputId": "6c5b0b72-3004-422e-b9bf-ef30ff3bcc08"
      },
      "outputs": [
        {
          "data": {
            "text/plain": [
              "<_sre.SRE_Match object; span=(0, 48), match=' I was born in the year 1995, in nagpur at 8 pm '>"
            ]
          },
          "execution_count": 17,
          "metadata": {},
          "output_type": "execute_result"
        }
      ],
      "source": [
        "re.match(r\".*\",sentence)"
      ]
    },
    {
      "cell_type": "code",
      "execution_count": null,
      "id": "8fe781ec",
      "metadata": {
        "id": "8fe781ec"
      },
      "outputs": [],
      "source": [
        "sentence1 =\" \""
      ]
    },
    {
      "cell_type": "code",
      "execution_count": null,
      "id": "ae194189",
      "metadata": {
        "id": "ae194189",
        "outputId": "fcb601ef-c9e2-42a9-8599-9b55aa9dd604"
      },
      "outputs": [
        {
          "data": {
            "text/plain": [
              "<_sre.SRE_Match object; span=(0, 1), match=' '>"
            ]
          },
          "execution_count": 27,
          "metadata": {},
          "output_type": "execute_result"
        }
      ],
      "source": [
        "re.match(r\".*\",sentence1)"
      ]
    },
    {
      "cell_type": "code",
      "execution_count": null,
      "id": "2df7b8ec",
      "metadata": {
        "id": "2df7b8ec",
        "outputId": "eeee7770-00a5-48f4-a931-0658b1f28d0c"
      },
      "outputs": [
        {
          "data": {
            "text/plain": [
              "<_sre.SRE_Match object; span=(0, 1), match=' '>"
            ]
          },
          "execution_count": 28,
          "metadata": {},
          "output_type": "execute_result"
        }
      ],
      "source": [
        "re.match(r\".+\",sentence1)"
      ]
    },
    {
      "cell_type": "code",
      "execution_count": null,
      "id": "c4486804",
      "metadata": {
        "id": "c4486804",
        "outputId": "26df3e8e-570a-467c-f882-36be444f9dcd"
      },
      "outputs": [
        {
          "data": {
            "text/plain": [
              "<_sre.SRE_Match object; span=(0, 48), match=' I was born in the year 1995, in nagpur at 8 pm '>"
            ]
          },
          "execution_count": 29,
          "metadata": {},
          "output_type": "execute_result"
        }
      ],
      "source": [
        "re.match(r\".+\",sentence)"
      ]
    },
    {
      "cell_type": "code",
      "execution_count": null,
      "id": "bfd754f7",
      "metadata": {
        "id": "bfd754f7",
        "outputId": "918fc17f-3daa-4164-c1e9-a1b1ae18bfa3"
      },
      "outputs": [
        {
          "data": {
            "text/plain": [
              "'  was born in the year 1995, in nagpur at 8 pm '"
            ]
          },
          "execution_count": 38,
          "metadata": {},
          "output_type": "execute_result"
        }
      ],
      "source": [
        "re.sub(r\"^ I\",' ',sentence)"
      ]
    },
    {
      "cell_type": "code",
      "execution_count": null,
      "id": "b185bc2f",
      "metadata": {
        "id": "b185bc2f",
        "outputId": "50b0796e-664b-4097-e9a4-c9588aeaddeb"
      },
      "outputs": [
        {
          "data": {
            "text/plain": [
              "' I was born in the year 1995, in nagpur at 8 pm '"
            ]
          },
          "execution_count": 46,
          "metadata": {},
          "output_type": "execute_result"
        }
      ],
      "source": [
        "re.sub(r\"^i\",' ',sentence)"
      ]
    },
    {
      "cell_type": "code",
      "execution_count": null,
      "id": "d1dda07c",
      "metadata": {
        "id": "d1dda07c",
        "outputId": "d79e04a9-5277-4a81-ce5e-3d63b6afdd84"
      },
      "outputs": [
        {
          "data": {
            "text/plain": [
              "' I was born in the year 1995, in nagpur at 8 pm  '"
            ]
          },
          "execution_count": 47,
          "metadata": {},
          "output_type": "execute_result"
        }
      ],
      "source": [
        "re.sub(r\"$\",' ',sentence)"
      ]
    },
    {
      "cell_type": "code",
      "execution_count": null,
      "id": "eea08311",
      "metadata": {
        "id": "eea08311"
      },
      "outputs": [],
      "source": [
        ""
      ]
    }
  ],
  "metadata": {
    "kernelspec": {
      "display_name": "Python 3",
      "language": "python",
      "name": "python3"
    },
    "language_info": {
      "codemirror_mode": {
        "name": "ipython",
        "version": 3
      },
      "file_extension": ".py",
      "mimetype": "text/x-python",
      "name": "python",
      "nbconvert_exporter": "python",
      "pygments_lexer": "ipython3",
      "version": "3.6.13"
    },
    "colab": {
      "name": "10_02_NLP.ipynb",
      "provenance": []
    }
  },
  "nbformat": 4,
  "nbformat_minor": 5
}