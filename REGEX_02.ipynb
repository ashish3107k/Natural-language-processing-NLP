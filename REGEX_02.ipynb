{
  "cells": [
    {
      "cell_type": "code",
      "execution_count": null,
      "id": "adec33da",
      "metadata": {
        "id": "adec33da"
      },
      "outputs": [],
      "source": [
        "import re"
      ]
    },
    {
      "cell_type": "code",
      "execution_count": null,
      "id": "3af7b55d",
      "metadata": {
        "id": "3af7b55d"
      },
      "outputs": [],
      "source": [
        "sentence1 = \"welcome to nagpur 2022\"\n",
        "sentence2 = \"just ~%++++ ---- arrived at @dany \\\\\\ place. # nagpur\""
      ]
    },
    {
      "cell_type": "code",
      "execution_count": null,
      "id": "2f937c4e",
      "metadata": {
        "id": "2f937c4e"
      },
      "outputs": [],
      "source": [
        "sentence3=\"I  Love      India\""
      ]
    },
    {
      "cell_type": "code",
      "execution_count": null,
      "id": "c52fe895",
      "metadata": {
        "id": "c52fe895"
      },
      "outputs": [],
      "source": [
        "sent1 = re.sub(r\"\\d\",' ',sentence1)"
      ]
    },
    {
      "cell_type": "code",
      "execution_count": null,
      "id": "374f8b15",
      "metadata": {
        "id": "374f8b15",
        "outputId": "016422f9-79d7-4555-e03a-0ff0737dbebe"
      },
      "outputs": [
        {
          "data": {
            "text/plain": [
              "'welcome to nagpur     '"
            ]
          },
          "execution_count": 24,
          "metadata": {},
          "output_type": "execute_result"
        }
      ],
      "source": [
        "sent1"
      ]
    },
    {
      "cell_type": "code",
      "execution_count": null,
      "id": "4ae2205d",
      "metadata": {
        "id": "4ae2205d"
      },
      "outputs": [],
      "source": [
        "sent1 = re.sub(r'\\s+$','',sent1)"
      ]
    },
    {
      "cell_type": "code",
      "execution_count": null,
      "id": "c327b371",
      "metadata": {
        "id": "c327b371",
        "outputId": "e6759e81-3a21-4917-e338-1daeb1555eb0"
      },
      "outputs": [
        {
          "data": {
            "text/plain": [
              "'welcome to nagpur'"
            ]
          },
          "execution_count": 26,
          "metadata": {},
          "output_type": "execute_result"
        }
      ],
      "source": [
        "sent1"
      ]
    },
    {
      "cell_type": "code",
      "execution_count": null,
      "id": "8068edbb",
      "metadata": {
        "id": "8068edbb",
        "outputId": "ae7d223a-5fb9-463e-8970-abdcb89fdf3a"
      },
      "outputs": [
        {
          "data": {
            "text/plain": [
              "'just ~%++++ ---- arrived at @dany \\\\\\\\ place. # nagpur'"
            ]
          },
          "execution_count": 27,
          "metadata": {},
          "output_type": "execute_result"
        }
      ],
      "source": [
        "sentence2"
      ]
    },
    {
      "cell_type": "code",
      "execution_count": null,
      "id": "8d5998bc",
      "metadata": {
        "id": "8d5998bc"
      },
      "outputs": [],
      "source": [
        "sent2 = re.sub(r'\\W',' ',sentence2)"
      ]
    },
    {
      "cell_type": "code",
      "execution_count": null,
      "id": "4a664854",
      "metadata": {
        "id": "4a664854",
        "outputId": "48c62cd4-c185-4219-dcbc-0852297bf183"
      },
      "outputs": [
        {
          "data": {
            "text/plain": [
              "'just             arrived at  dany    place    nagpur'"
            ]
          },
          "execution_count": 29,
          "metadata": {},
          "output_type": "execute_result"
        }
      ],
      "source": [
        "sent2"
      ]
    },
    {
      "cell_type": "code",
      "execution_count": null,
      "id": "721a4cf8",
      "metadata": {
        "id": "721a4cf8"
      },
      "outputs": [],
      "source": [
        "sent2 = re.sub(r\"\\.\",' ',sentence2)"
      ]
    },
    {
      "cell_type": "code",
      "execution_count": null,
      "id": "524bdb21",
      "metadata": {
        "id": "524bdb21",
        "outputId": "c7b77dc3-483b-45ba-beb2-2c1f9fba6582"
      },
      "outputs": [
        {
          "data": {
            "text/plain": [
              "'just ~%++++ ---- arrived at @dany \\\\\\\\ place  # nagpur'"
            ]
          },
          "execution_count": 32,
          "metadata": {},
          "output_type": "execute_result"
        }
      ],
      "source": [
        "sent2"
      ]
    },
    {
      "cell_type": "code",
      "execution_count": null,
      "id": "dee99a41",
      "metadata": {
        "id": "dee99a41"
      },
      "outputs": [],
      "source": [
        "sent2 = re.sub(r\"[~%\\+-@#\\\\]\",' ',sentence2)"
      ]
    },
    {
      "cell_type": "code",
      "execution_count": null,
      "id": "cddbb498",
      "metadata": {
        "id": "cddbb498",
        "outputId": "e06d6520-99b7-4b0e-c1cc-add1ea4dbc61"
      },
      "outputs": [
        {
          "data": {
            "text/plain": [
              "'just             arrived at  dany    place    nagpur'"
            ]
          },
          "execution_count": 42,
          "metadata": {},
          "output_type": "execute_result"
        }
      ],
      "source": [
        "sent2"
      ]
    },
    {
      "cell_type": "code",
      "execution_count": null,
      "id": "2c084d63",
      "metadata": {
        "id": "2c084d63"
      },
      "outputs": [],
      "source": [
        "sent2 = re.sub(r\"\\s+\",' ',sent2)"
      ]
    },
    {
      "cell_type": "code",
      "execution_count": null,
      "id": "a5ee8ee5",
      "metadata": {
        "id": "a5ee8ee5",
        "outputId": "0bcce24a-560b-41ed-da02-f1e9b983ee4c"
      },
      "outputs": [
        {
          "data": {
            "text/plain": [
              "'just arrived at dany place nagpur'"
            ]
          },
          "execution_count": 44,
          "metadata": {},
          "output_type": "execute_result"
        }
      ],
      "source": [
        "sent2"
      ]
    },
    {
      "cell_type": "code",
      "execution_count": null,
      "id": "449e5ae8",
      "metadata": {
        "id": "449e5ae8"
      },
      "outputs": [],
      "source": [
        "X = [\"This is dany #petkar\",\n",
        "    \"welcome to the Nagpur's %100\",\n",
        "    \"11134 the number i know\",\n",
        "    \"Remember the d-john\",\n",
        "    \"I     Love    India\"]"
      ]
    },
    {
      "cell_type": "code",
      "execution_count": null,
      "id": "16612109",
      "metadata": {
        "id": "16612109",
        "outputId": "226ebbdd-31f3-4909-ae39-442bd124291a"
      },
      "outputs": [
        {
          "data": {
            "text/plain": [
              "['This is dany #petkar',\n",
              " \"welcome to the Nagpur's %100\",\n",
              " '11134 the number i know',\n",
              " 'Remember the d-john',\n",
              " 'I     Love    India']"
            ]
          },
          "execution_count": 53,
          "metadata": {},
          "output_type": "execute_result"
        }
      ],
      "source": [
        "X"
      ]
    },
    {
      "cell_type": "code",
      "execution_count": null,
      "id": "6aa7e904",
      "metadata": {
        "id": "6aa7e904",
        "outputId": "13c0ec7a-2858-4195-dfa1-919c79d095fd"
      },
      "outputs": [
        {
          "data": {
            "text/plain": [
              "5"
            ]
          },
          "execution_count": 49,
          "metadata": {},
          "output_type": "execute_result"
        }
      ],
      "source": [
        "len(X)"
      ]
    },
    {
      "cell_type": "code",
      "execution_count": null,
      "id": "a1eea576",
      "metadata": {
        "id": "a1eea576"
      },
      "outputs": [],
      "source": [
        "for i in range (len(X)):\n",
        "  X[i] = re.sub(r\"\\W\",\" \",X[i])\n",
        "  X[i] = re.sub(r\"\\d\",\" \",X[i])\n",
        "  X[i] = re.sub(r\"\\s+[sd]\\s+\",' ',X[i])\n",
        "  X[i] = re.sub(r\"^\\s+|\\s+$\",'', X[i])\n",
        "  X[i] = re.sub(r\"\\s+\",' ',X[i])"
      ]
    },
    {
      "cell_type": "code",
      "execution_count": null,
      "id": "2410fa04",
      "metadata": {
        "id": "2410fa04",
        "outputId": "f13367e2-84fb-438f-a27a-d35a2cfb67e9"
      },
      "outputs": [
        {
          "data": {
            "text/plain": [
              "['This is dany petkar',\n",
              " 'welcome to the Nagpur',\n",
              " 'the number i know',\n",
              " 'Remember the john',\n",
              " 'I Love India']"
            ]
          },
          "execution_count": 63,
          "metadata": {},
          "output_type": "execute_result"
        }
      ],
      "source": [
        "X"
      ]
    },
    {
      "cell_type": "code",
      "execution_count": null,
      "id": "d0b0c087",
      "metadata": {
        "id": "d0b0c087"
      },
      "outputs": [],
      "source": [
        ""
      ]
    }
  ],
  "metadata": {
    "kernelspec": {
      "display_name": "Python 3",
      "language": "python",
      "name": "python3"
    },
    "language_info": {
      "codemirror_mode": {
        "name": "ipython",
        "version": 3
      },
      "file_extension": ".py",
      "mimetype": "text/x-python",
      "name": "python",
      "nbconvert_exporter": "python",
      "pygments_lexer": "ipython3",
      "version": "3.6.13"
    },
    "colab": {
      "name": "14_02_Regex.ipynb",
      "provenance": []
    }
  },
  "nbformat": 4,
  "nbformat_minor": 5
}