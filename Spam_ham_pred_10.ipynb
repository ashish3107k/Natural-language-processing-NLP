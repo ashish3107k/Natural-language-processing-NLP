{
  "cells": [
    {
      "cell_type": "code",
      "execution_count": null,
      "id": "3ae33d28",
      "metadata": {
        "id": "3ae33d28",
        "outputId": "a949d5f0-186e-41f5-ca8d-deacdc65ebbf"
      },
      "outputs": [
        {
          "name": "stderr",
          "output_type": "stream",
          "text": [
            "H:\\Anaconda\\anacondai\\envs\\deepl\\lib\\importlib\\_bootstrap.py:219: RuntimeWarning: numpy.ufunc size changed, may indicate binary incompatibility. Expected 192 from C header, got 216 from PyObject\n",
            "  return f(*args, **kwds)\n"
          ]
        }
      ],
      "source": [
        "import nltk\n",
        "import pandas as pd\n",
        "import numpy as np"
      ]
    },
    {
      "cell_type": "code",
      "execution_count": null,
      "id": "e8bc44b9",
      "metadata": {
        "id": "e8bc44b9"
      },
      "outputs": [],
      "source": [
        "message = pd.read_csv('SMSSpamCollection', sep='\\t',names=['label','message'], encoding ='latin1')"
      ]
    },
    {
      "cell_type": "code",
      "execution_count": null,
      "id": "751452a3",
      "metadata": {
        "id": "751452a3",
        "outputId": "54ab092a-a5dc-408a-9c5f-c61a8da85e88"
      },
      "outputs": [
        {
          "data": {
            "text/html": [
              "<div>\n",
              "<style scoped>\n",
              "    .dataframe tbody tr th:only-of-type {\n",
              "        vertical-align: middle;\n",
              "    }\n",
              "\n",
              "    .dataframe tbody tr th {\n",
              "        vertical-align: top;\n",
              "    }\n",
              "\n",
              "    .dataframe thead th {\n",
              "        text-align: right;\n",
              "    }\n",
              "</style>\n",
              "<table border=\"1\" class=\"dataframe\">\n",
              "  <thead>\n",
              "    <tr style=\"text-align: right;\">\n",
              "      <th></th>\n",
              "      <th>label</th>\n",
              "      <th>message</th>\n",
              "    </tr>\n",
              "  </thead>\n",
              "  <tbody>\n",
              "    <tr>\n",
              "      <th>0</th>\n",
              "      <td>ham</td>\n",
              "      <td>Go until jurong point, crazy.. Available only ...</td>\n",
              "    </tr>\n",
              "    <tr>\n",
              "      <th>1</th>\n",
              "      <td>ham</td>\n",
              "      <td>Ok lar... Joking wif u oni...</td>\n",
              "    </tr>\n",
              "    <tr>\n",
              "      <th>2</th>\n",
              "      <td>spam</td>\n",
              "      <td>Free entry in 2 a wkly comp to win FA Cup fina...</td>\n",
              "    </tr>\n",
              "    <tr>\n",
              "      <th>3</th>\n",
              "      <td>ham</td>\n",
              "      <td>U dun say so early hor... U c already then say...</td>\n",
              "    </tr>\n",
              "    <tr>\n",
              "      <th>4</th>\n",
              "      <td>ham</td>\n",
              "      <td>Nah I don't think he goes to usf, he lives aro...</td>\n",
              "    </tr>\n",
              "    <tr>\n",
              "      <th>...</th>\n",
              "      <td>...</td>\n",
              "      <td>...</td>\n",
              "    </tr>\n",
              "    <tr>\n",
              "      <th>5567</th>\n",
              "      <td>spam</td>\n",
              "      <td>This is the 2nd time we have tried 2 contact u...</td>\n",
              "    </tr>\n",
              "    <tr>\n",
              "      <th>5568</th>\n",
              "      <td>ham</td>\n",
              "      <td>Will ü b going to esplanade fr home?</td>\n",
              "    </tr>\n",
              "    <tr>\n",
              "      <th>5569</th>\n",
              "      <td>ham</td>\n",
              "      <td>Pity, * was in mood for that. So...any other s...</td>\n",
              "    </tr>\n",
              "    <tr>\n",
              "      <th>5570</th>\n",
              "      <td>ham</td>\n",
              "      <td>The guy did some bitching but I acted like i'd...</td>\n",
              "    </tr>\n",
              "    <tr>\n",
              "      <th>5571</th>\n",
              "      <td>ham</td>\n",
              "      <td>Rofl. Its true to its name</td>\n",
              "    </tr>\n",
              "  </tbody>\n",
              "</table>\n",
              "<p>5572 rows × 2 columns</p>\n",
              "</div>"
            ],
            "text/plain": [
              "     label                                            message\n",
              "0      ham  Go until jurong point, crazy.. Available only ...\n",
              "1      ham                      Ok lar... Joking wif u oni...\n",
              "2     spam  Free entry in 2 a wkly comp to win FA Cup fina...\n",
              "3      ham  U dun say so early hor... U c already then say...\n",
              "4      ham  Nah I don't think he goes to usf, he lives aro...\n",
              "...    ...                                                ...\n",
              "5567  spam  This is the 2nd time we have tried 2 contact u...\n",
              "5568   ham               Will ü b going to esplanade fr home?\n",
              "5569   ham  Pity, * was in mood for that. So...any other s...\n",
              "5570   ham  The guy did some bitching but I acted like i'd...\n",
              "5571   ham                         Rofl. Its true to its name\n",
              "\n",
              "[5572 rows x 2 columns]"
            ]
          },
          "execution_count": 7,
          "metadata": {},
          "output_type": "execute_result"
        }
      ],
      "source": [
        "message"
      ]
    },
    {
      "cell_type": "code",
      "execution_count": null,
      "id": "e8bb6e1e",
      "metadata": {
        "id": "e8bb6e1e",
        "outputId": "a8b8963f-157f-47d1-9d4d-5251be9f9d4f"
      },
      "outputs": [
        {
          "data": {
            "text/html": [
              "<div>\n",
              "<style scoped>\n",
              "    .dataframe tbody tr th:only-of-type {\n",
              "        vertical-align: middle;\n",
              "    }\n",
              "\n",
              "    .dataframe tbody tr th {\n",
              "        vertical-align: top;\n",
              "    }\n",
              "\n",
              "    .dataframe thead th {\n",
              "        text-align: right;\n",
              "    }\n",
              "</style>\n",
              "<table border=\"1\" class=\"dataframe\">\n",
              "  <thead>\n",
              "    <tr style=\"text-align: right;\">\n",
              "      <th></th>\n",
              "      <th>label</th>\n",
              "      <th>message</th>\n",
              "    </tr>\n",
              "  </thead>\n",
              "  <tbody>\n",
              "    <tr>\n",
              "      <th>count</th>\n",
              "      <td>5572</td>\n",
              "      <td>5572</td>\n",
              "    </tr>\n",
              "    <tr>\n",
              "      <th>unique</th>\n",
              "      <td>2</td>\n",
              "      <td>5169</td>\n",
              "    </tr>\n",
              "    <tr>\n",
              "      <th>top</th>\n",
              "      <td>ham</td>\n",
              "      <td>Sorry, I'll call later</td>\n",
              "    </tr>\n",
              "    <tr>\n",
              "      <th>freq</th>\n",
              "      <td>4825</td>\n",
              "      <td>30</td>\n",
              "    </tr>\n",
              "  </tbody>\n",
              "</table>\n",
              "</div>"
            ],
            "text/plain": [
              "       label                 message\n",
              "count   5572                    5572\n",
              "unique     2                    5169\n",
              "top      ham  Sorry, I'll call later\n",
              "freq    4825                      30"
            ]
          },
          "execution_count": 8,
          "metadata": {},
          "output_type": "execute_result"
        }
      ],
      "source": [
        "message.describe()"
      ]
    },
    {
      "cell_type": "code",
      "execution_count": null,
      "id": "d2626eae",
      "metadata": {
        "id": "d2626eae",
        "outputId": "7718971d-4153-42be-c9c1-565f3d77ef1d"
      },
      "outputs": [
        {
          "data": {
            "text/html": [
              "<div>\n",
              "<style scoped>\n",
              "    .dataframe tbody tr th:only-of-type {\n",
              "        vertical-align: middle;\n",
              "    }\n",
              "\n",
              "    .dataframe tbody tr th {\n",
              "        vertical-align: top;\n",
              "    }\n",
              "\n",
              "    .dataframe thead tr th {\n",
              "        text-align: left;\n",
              "    }\n",
              "\n",
              "    .dataframe thead tr:last-of-type th {\n",
              "        text-align: right;\n",
              "    }\n",
              "</style>\n",
              "<table border=\"1\" class=\"dataframe\">\n",
              "  <thead>\n",
              "    <tr>\n",
              "      <th></th>\n",
              "      <th colspan=\"4\" halign=\"left\">message</th>\n",
              "    </tr>\n",
              "    <tr>\n",
              "      <th></th>\n",
              "      <th>count</th>\n",
              "      <th>unique</th>\n",
              "      <th>top</th>\n",
              "      <th>freq</th>\n",
              "    </tr>\n",
              "    <tr>\n",
              "      <th>label</th>\n",
              "      <th></th>\n",
              "      <th></th>\n",
              "      <th></th>\n",
              "      <th></th>\n",
              "    </tr>\n",
              "  </thead>\n",
              "  <tbody>\n",
              "    <tr>\n",
              "      <th>ham</th>\n",
              "      <td>4825</td>\n",
              "      <td>4516</td>\n",
              "      <td>Sorry, I'll call later</td>\n",
              "      <td>30</td>\n",
              "    </tr>\n",
              "    <tr>\n",
              "      <th>spam</th>\n",
              "      <td>747</td>\n",
              "      <td>653</td>\n",
              "      <td>Please call our customer service representativ...</td>\n",
              "      <td>4</td>\n",
              "    </tr>\n",
              "  </tbody>\n",
              "</table>\n",
              "</div>"
            ],
            "text/plain": [
              "      message                                                               \n",
              "        count unique                                                top freq\n",
              "label                                                                       \n",
              "ham      4825   4516                             Sorry, I'll call later   30\n",
              "spam      747    653  Please call our customer service representativ...    4"
            ]
          },
          "execution_count": 9,
          "metadata": {},
          "output_type": "execute_result"
        }
      ],
      "source": [
        "message.groupby('label').describe()"
      ]
    },
    {
      "cell_type": "code",
      "execution_count": null,
      "id": "e961e46a",
      "metadata": {
        "id": "e961e46a",
        "outputId": "c5957d7c-9d54-4a3d-b144-7e596bec467f"
      },
      "outputs": [
        {
          "name": "stderr",
          "output_type": "stream",
          "text": [
            "H:\\Anaconda\\anacondai\\envs\\deepl\\lib\\importlib\\_bootstrap.py:219: RuntimeWarning: numpy.ufunc size changed, may indicate binary incompatibility. Expected 192 from C header, got 216 from PyObject\n",
            "  return f(*args, **kwds)\n"
          ]
        }
      ],
      "source": [
        "import matplotlib.pyplot as plt\n",
        "import seaborn as sns\n",
        "sns.set_style('whitegrid')"
      ]
    },
    {
      "cell_type": "code",
      "execution_count": null,
      "id": "733b1fd7",
      "metadata": {
        "id": "733b1fd7"
      },
      "outputs": [],
      "source": [
        "message['length'] = message ['message'].apply(len)"
      ]
    },
    {
      "cell_type": "code",
      "execution_count": null,
      "id": "6ddfe414",
      "metadata": {
        "id": "6ddfe414",
        "outputId": "5d3192ea-9849-4b77-f850-e11cb29ee561"
      },
      "outputs": [
        {
          "data": {
            "text/html": [
              "<div>\n",
              "<style scoped>\n",
              "    .dataframe tbody tr th:only-of-type {\n",
              "        vertical-align: middle;\n",
              "    }\n",
              "\n",
              "    .dataframe tbody tr th {\n",
              "        vertical-align: top;\n",
              "    }\n",
              "\n",
              "    .dataframe thead th {\n",
              "        text-align: right;\n",
              "    }\n",
              "</style>\n",
              "<table border=\"1\" class=\"dataframe\">\n",
              "  <thead>\n",
              "    <tr style=\"text-align: right;\">\n",
              "      <th></th>\n",
              "      <th>label</th>\n",
              "      <th>message</th>\n",
              "      <th>length</th>\n",
              "    </tr>\n",
              "  </thead>\n",
              "  <tbody>\n",
              "    <tr>\n",
              "      <th>0</th>\n",
              "      <td>ham</td>\n",
              "      <td>Go until jurong point, crazy.. Available only ...</td>\n",
              "      <td>111</td>\n",
              "    </tr>\n",
              "    <tr>\n",
              "      <th>1</th>\n",
              "      <td>ham</td>\n",
              "      <td>Ok lar... Joking wif u oni...</td>\n",
              "      <td>29</td>\n",
              "    </tr>\n",
              "    <tr>\n",
              "      <th>2</th>\n",
              "      <td>spam</td>\n",
              "      <td>Free entry in 2 a wkly comp to win FA Cup fina...</td>\n",
              "      <td>155</td>\n",
              "    </tr>\n",
              "    <tr>\n",
              "      <th>3</th>\n",
              "      <td>ham</td>\n",
              "      <td>U dun say so early hor... U c already then say...</td>\n",
              "      <td>49</td>\n",
              "    </tr>\n",
              "    <tr>\n",
              "      <th>4</th>\n",
              "      <td>ham</td>\n",
              "      <td>Nah I don't think he goes to usf, he lives aro...</td>\n",
              "      <td>61</td>\n",
              "    </tr>\n",
              "    <tr>\n",
              "      <th>...</th>\n",
              "      <td>...</td>\n",
              "      <td>...</td>\n",
              "      <td>...</td>\n",
              "    </tr>\n",
              "    <tr>\n",
              "      <th>5567</th>\n",
              "      <td>spam</td>\n",
              "      <td>This is the 2nd time we have tried 2 contact u...</td>\n",
              "      <td>160</td>\n",
              "    </tr>\n",
              "    <tr>\n",
              "      <th>5568</th>\n",
              "      <td>ham</td>\n",
              "      <td>Will ü b going to esplanade fr home?</td>\n",
              "      <td>36</td>\n",
              "    </tr>\n",
              "    <tr>\n",
              "      <th>5569</th>\n",
              "      <td>ham</td>\n",
              "      <td>Pity, * was in mood for that. So...any other s...</td>\n",
              "      <td>57</td>\n",
              "    </tr>\n",
              "    <tr>\n",
              "      <th>5570</th>\n",
              "      <td>ham</td>\n",
              "      <td>The guy did some bitching but I acted like i'd...</td>\n",
              "      <td>125</td>\n",
              "    </tr>\n",
              "    <tr>\n",
              "      <th>5571</th>\n",
              "      <td>ham</td>\n",
              "      <td>Rofl. Its true to its name</td>\n",
              "      <td>26</td>\n",
              "    </tr>\n",
              "  </tbody>\n",
              "</table>\n",
              "<p>5572 rows × 3 columns</p>\n",
              "</div>"
            ],
            "text/plain": [
              "     label                                            message  length\n",
              "0      ham  Go until jurong point, crazy.. Available only ...     111\n",
              "1      ham                      Ok lar... Joking wif u oni...      29\n",
              "2     spam  Free entry in 2 a wkly comp to win FA Cup fina...     155\n",
              "3      ham  U dun say so early hor... U c already then say...      49\n",
              "4      ham  Nah I don't think he goes to usf, he lives aro...      61\n",
              "...    ...                                                ...     ...\n",
              "5567  spam  This is the 2nd time we have tried 2 contact u...     160\n",
              "5568   ham               Will ü b going to esplanade fr home?      36\n",
              "5569   ham  Pity, * was in mood for that. So...any other s...      57\n",
              "5570   ham  The guy did some bitching but I acted like i'd...     125\n",
              "5571   ham                         Rofl. Its true to its name      26\n",
              "\n",
              "[5572 rows x 3 columns]"
            ]
          },
          "execution_count": 12,
          "metadata": {},
          "output_type": "execute_result"
        }
      ],
      "source": [
        "message"
      ]
    },
    {
      "cell_type": "code",
      "execution_count": null,
      "id": "81b97566",
      "metadata": {
        "id": "81b97566",
        "outputId": "bebae6d3-326b-4c22-e1ba-b5d350c044fe"
      },
      "outputs": [
        {
          "data": {
            "text/plain": [
              "910"
            ]
          },
          "execution_count": 13,
          "metadata": {},
          "output_type": "execute_result"
        }
      ],
      "source": [
        "max(message.length)"
      ]
    },
    {
      "cell_type": "code",
      "execution_count": null,
      "id": "fb8a4fef",
      "metadata": {
        "id": "fb8a4fef",
        "outputId": "5be7729e-ac74-4b7d-b0b5-afaae02176d5"
      },
      "outputs": [
        {
          "data": {
            "text/plain": [
              "<AxesSubplot:ylabel='Frequency'>"
            ]
          },
          "execution_count": 14,
          "metadata": {},
          "output_type": "execute_result"
        },
        {
          "data": {
            "image/png": "[encoded data removed]",
            "text/plain": [
              "<Figure size 432x288 with 1 Axes>"
            ]
          },
          "metadata": {},
          "output_type": "display_data"
        }
      ],
      "source": [
        "message['length'].plot.hist(bins=150)"
      ]
    },
    {
      "cell_type": "code",
      "execution_count": null,
      "id": "a257c63c",
      "metadata": {
        "id": "a257c63c",
        "outputId": "0f13982a-279f-4130-8120-c3e036fec677"
      },
      "outputs": [
        {
          "data": {
            "text/html": [
              "<div>\n",
              "<style scoped>\n",
              "    .dataframe tbody tr th:only-of-type {\n",
              "        vertical-align: middle;\n",
              "    }\n",
              "\n",
              "    .dataframe tbody tr th {\n",
              "        vertical-align: top;\n",
              "    }\n",
              "\n",
              "    .dataframe thead th {\n",
              "        text-align: right;\n",
              "    }\n",
              "</style>\n",
              "<table border=\"1\" class=\"dataframe\">\n",
              "  <thead>\n",
              "    <tr style=\"text-align: right;\">\n",
              "      <th></th>\n",
              "      <th>label</th>\n",
              "      <th>message</th>\n",
              "      <th>length</th>\n",
              "    </tr>\n",
              "  </thead>\n",
              "  <tbody>\n",
              "    <tr>\n",
              "      <th>1085</th>\n",
              "      <td>ham</td>\n",
              "      <td>For me the love should start with attraction.i...</td>\n",
              "      <td>910</td>\n",
              "    </tr>\n",
              "  </tbody>\n",
              "</table>\n",
              "</div>"
            ],
            "text/plain": [
              "     label                                            message  length\n",
              "1085   ham  For me the love should start with attraction.i...     910"
            ]
          },
          "execution_count": 15,
          "metadata": {},
          "output_type": "execute_result"
        }
      ],
      "source": [
        "message[message['length'] == 910]"
      ]
    },
    {
      "cell_type": "code",
      "execution_count": null,
      "id": "3bbcde23",
      "metadata": {
        "id": "3bbcde23",
        "outputId": "eebb9046-d183-4003-8184-5a3abcebbe5c"
      },
      "outputs": [
        {
          "data": {
            "text/plain": [
              "\"For me the love should start with attraction.i should feel that I need her every time around me.she should be the first thing which comes in my thoughts.I would start the day and end it with her.she should be there every time I dream.love will be then when my every breath has her name.my life should happen around her.my life will be named to her.I would cry for her.will give all my happiness and take all her sorrows.I will be ready to fight with anyone for her.I will be in love when I will be doing the craziest things for her.love will be when I don't have to proove anyone that my girl is the most beautiful lady on the whole planet.I will always be singing praises for her.love will be when I start up making chicken curry and end up makiing sambar.life will be the most beautiful then.will get every morning and thank god for the day because she is with me.I would like to say a lot..will tell later..\""
            ]
          },
          "execution_count": 16,
          "metadata": {},
          "output_type": "execute_result"
        }
      ],
      "source": [
        "message[message['length']==910]['message'].iloc[0]"
      ]
    },
    {
      "cell_type": "code",
      "execution_count": null,
      "id": "6012f7ac",
      "metadata": {
        "id": "6012f7ac",
        "outputId": "1c10eccf-378b-48c4-a09c-def6b35a08f5"
      },
      "outputs": [
        {
          "data": {
            "text/plain": [
              "array([<AxesSubplot:title={'center':'ham'}>,\n",
              "       <AxesSubplot:title={'center':'spam'}>], dtype=object)"
            ]
          },
          "execution_count": 17,
          "metadata": {},
          "output_type": "execute_result"
        },
        {
          "data": {
            "image/png": "[encoded data removed]",
            "text/plain": [
              "<Figure size 864x288 with 2 Axes>"
            ]
          },
          "metadata": {},
          "output_type": "display_data"
        }
      ],
      "source": [
        "message.hist(column='length',by='label',bins=60,figsize=(12,4))"
      ]
    },
    {
      "cell_type": "code",
      "execution_count": null,
      "id": "918c3bf5",
      "metadata": {
        "id": "918c3bf5"
      },
      "outputs": [],
      "source": [
        "import string"
      ]
    },
    {
      "cell_type": "code",
      "execution_count": null,
      "id": "199d36dd",
      "metadata": {
        "id": "199d36dd"
      },
      "outputs": [],
      "source": [
        "mess= 'sample message! notice : it has punctuation'"
      ]
    },
    {
      "cell_type": "code",
      "execution_count": null,
      "id": "c11572f3",
      "metadata": {
        "id": "c11572f3",
        "outputId": "408d19e2-55f3-4e21-ecc2-5fb295974173"
      },
      "outputs": [
        {
          "data": {
            "text/plain": [
              "'sample message! notice : it has punctuation'"
            ]
          },
          "execution_count": 20,
          "metadata": {},
          "output_type": "execute_result"
        }
      ],
      "source": [
        "mess"
      ]
    },
    {
      "cell_type": "code",
      "execution_count": null,
      "id": "7eb6e97d",
      "metadata": {
        "id": "7eb6e97d",
        "outputId": "f7fa1d5f-6eeb-4aae-f6d2-f26a128b4fa2"
      },
      "outputs": [
        {
          "data": {
            "text/plain": [
              "'!\"#$%&\\'()*+,-./:;<=>?@[\\\\]^_`{|}~'"
            ]
          },
          "execution_count": 21,
          "metadata": {},
          "output_type": "execute_result"
        }
      ],
      "source": [
        "string.punctuation"
      ]
    },
    {
      "cell_type": "code",
      "execution_count": null,
      "id": "e7be492d",
      "metadata": {
        "id": "e7be492d"
      },
      "outputs": [],
      "source": [
        "nopunc = [c for c in mess if c not in string.punctuation]"
      ]
    },
    {
      "cell_type": "code",
      "execution_count": null,
      "id": "bd401021",
      "metadata": {
        "id": "bd401021",
        "outputId": "d0db843c-f7e2-4442-e41e-e7eec49d8956"
      },
      "outputs": [
        {
          "data": {
            "text/plain": [
              "['s',\n",
              " 'a',\n",
              " 'm',\n",
              " 'p',\n",
              " 'l',\n",
              " 'e',\n",
              " ' ',\n",
              " 'm',\n",
              " 'e',\n",
              " 's',\n",
              " 's',\n",
              " 'a',\n",
              " 'g',\n",
              " 'e',\n",
              " ' ',\n",
              " 'n',\n",
              " 'o',\n",
              " 't',\n",
              " 'i',\n",
              " 'c',\n",
              " 'e',\n",
              " ' ',\n",
              " ' ',\n",
              " 'i',\n",
              " 't',\n",
              " ' ',\n",
              " 'h',\n",
              " 'a',\n",
              " 's',\n",
              " ' ',\n",
              " 'p',\n",
              " 'u',\n",
              " 'n',\n",
              " 'c',\n",
              " 't',\n",
              " 'u',\n",
              " 'a',\n",
              " 't',\n",
              " 'i',\n",
              " 'o',\n",
              " 'n']"
            ]
          },
          "execution_count": 23,
          "metadata": {},
          "output_type": "execute_result"
        }
      ],
      "source": [
        "nopunc"
      ]
    },
    {
      "cell_type": "code",
      "execution_count": null,
      "id": "ef4a5e21",
      "metadata": {
        "id": "ef4a5e21"
      },
      "outputs": [],
      "source": [
        "from nltk.corpus import stopwords "
      ]
    },
    {
      "cell_type": "code",
      "execution_count": null,
      "id": "0111120a",
      "metadata": {
        "id": "0111120a"
      },
      "outputs": [],
      "source": [
        "stopwords.words('english')\n",
        "nopunc = ''.join(nopunc)"
      ]
    },
    {
      "cell_type": "code",
      "execution_count": null,
      "id": "553e16c8",
      "metadata": {
        "id": "553e16c8",
        "outputId": "8a779b4f-3a43-4163-aa31-9a63e6f9c3ff"
      },
      "outputs": [
        {
          "data": {
            "text/plain": [
              "'sample message notice  it has punctuation'"
            ]
          },
          "execution_count": 26,
          "metadata": {},
          "output_type": "execute_result"
        }
      ],
      "source": [
        "nopunc"
      ]
    },
    {
      "cell_type": "code",
      "execution_count": null,
      "id": "f9d1250b",
      "metadata": {
        "id": "f9d1250b"
      },
      "outputs": [],
      "source": [
        "clean_mess = [word for word in nopunc.split() if word.lower() not in stopwords.words('english')]"
      ]
    },
    {
      "cell_type": "code",
      "execution_count": null,
      "id": "b55e9991",
      "metadata": {
        "id": "b55e9991",
        "outputId": "86005731-6816-40ab-ad97-1607ad3e6d5a"
      },
      "outputs": [
        {
          "data": {
            "text/plain": [
              "['sample', 'message', 'notice', 'punctuation']"
            ]
          },
          "execution_count": 28,
          "metadata": {},
          "output_type": "execute_result"
        }
      ],
      "source": [
        "clean_mess"
      ]
    },
    {
      "cell_type": "code",
      "execution_count": null,
      "id": "64537b13",
      "metadata": {
        "id": "64537b13"
      },
      "outputs": [],
      "source": [
        "def text_process(mess):\n",
        "    nopunc = [char for char in mess if char not in string.punctuation]\n",
        "    nopunc = ''.join(nopunc)\n",
        "    return[word for word in nopunc.split() if word.lower() not in stopwords.words('english')]"
      ]
    },
    {
      "cell_type": "code",
      "execution_count": null,
      "id": "a5d6ffb7",
      "metadata": {
        "id": "a5d6ffb7",
        "outputId": "daf77329-4719-44e3-f2bd-61c4ea173142"
      },
      "outputs": [
        {
          "data": {
            "text/plain": [
              "'sample message notice  it has punctuation'"
            ]
          },
          "execution_count": 30,
          "metadata": {},
          "output_type": "execute_result"
        }
      ],
      "source": [
        "nopunc"
      ]
    },
    {
      "cell_type": "code",
      "execution_count": null,
      "id": "7f58c782",
      "metadata": {
        "id": "7f58c782",
        "outputId": "3f3bb060-7999-46ea-8b34-5e34f456b788"
      },
      "outputs": [
        {
          "data": {
            "text/plain": [
              "['sample', 'message', 'notice', 'punctuation']"
            ]
          },
          "execution_count": 31,
          "metadata": {},
          "output_type": "execute_result"
        }
      ],
      "source": [
        "text_process(mess)"
      ]
    },
    {
      "cell_type": "code",
      "execution_count": null,
      "id": "e1a460ff",
      "metadata": {
        "id": "e1a460ff"
      },
      "outputs": [],
      "source": [
        "mess1 = 'Danny @ nagpur. # is the to orange'"
      ]
    },
    {
      "cell_type": "code",
      "execution_count": null,
      "id": "dbccef1a",
      "metadata": {
        "id": "dbccef1a",
        "outputId": "b8b989cb-862c-4583-94f6-9a9913d49f0a"
      },
      "outputs": [
        {
          "data": {
            "text/plain": [
              "['Danny', 'nagpur', 'orange']"
            ]
          },
          "execution_count": 33,
          "metadata": {},
          "output_type": "execute_result"
        }
      ],
      "source": [
        "text_process(mess1)"
      ]
    },
    {
      "cell_type": "code",
      "execution_count": null,
      "id": "04163fec",
      "metadata": {
        "id": "04163fec",
        "outputId": "d8a79f88-594b-4753-9c78-b3eff88de418"
      },
      "outputs": [
        {
          "data": {
            "text/plain": [
              "'Danny @ nagpur. # is the to orange'"
            ]
          },
          "execution_count": 34,
          "metadata": {},
          "output_type": "execute_result"
        }
      ],
      "source": [
        "mess1"
      ]
    },
    {
      "cell_type": "code",
      "execution_count": null,
      "id": "1818c06e",
      "metadata": {
        "id": "1818c06e",
        "outputId": "3472a8a3-058e-4829-8b4b-a84a461b90de"
      },
      "outputs": [
        {
          "data": {
            "text/plain": [
              "0    [Go, jurong, point, crazy, Available, bugis, n...\n",
              "1                       [Ok, lar, Joking, wif, u, oni]\n",
              "2    [Free, entry, 2, wkly, comp, win, FA, Cup, fin...\n",
              "3        [U, dun, say, early, hor, U, c, already, say]\n",
              "4    [Nah, dont, think, goes, usf, lives, around, t...\n",
              "Name: message, dtype: object"
            ]
          },
          "execution_count": 35,
          "metadata": {},
          "output_type": "execute_result"
        }
      ],
      "source": [
        "message['message'].head(5).apply(text_process)"
      ]
    },
    {
      "cell_type": "code",
      "execution_count": null,
      "id": "b16424ad",
      "metadata": {
        "id": "b16424ad"
      },
      "outputs": [],
      "source": [
        "from sklearn.feature_extraction.text import CountVectorizer"
      ]
    },
    {
      "cell_type": "code",
      "execution_count": null,
      "id": "e8128906",
      "metadata": {
        "id": "e8128906"
      },
      "outputs": [],
      "source": [
        "bow_transformer = CountVectorizer(analyzer=text_process).fit(message['message'])"
      ]
    },
    {
      "cell_type": "code",
      "execution_count": null,
      "id": "cd93f44b",
      "metadata": {
        "id": "cd93f44b"
      },
      "outputs": [],
      "source": [
        "mess4 = message['message'][3]"
      ]
    },
    {
      "cell_type": "code",
      "execution_count": null,
      "id": "90e70dbc",
      "metadata": {
        "id": "90e70dbc",
        "outputId": "28e688d7-cdc7-4483-bbba-ef9a148fbcc6"
      },
      "outputs": [
        {
          "data": {
            "text/plain": [
              "'U dun say so early hor... U c already then say...'"
            ]
          },
          "execution_count": 39,
          "metadata": {},
          "output_type": "execute_result"
        }
      ],
      "source": [
        "mess4"
      ]
    },
    {
      "cell_type": "code",
      "execution_count": null,
      "id": "ff026acb",
      "metadata": {
        "id": "ff026acb"
      },
      "outputs": [],
      "source": [
        "bow4 = bow_transformer.transform([mess4])"
      ]
    },
    {
      "cell_type": "code",
      "execution_count": null,
      "id": "8faecb95",
      "metadata": {
        "id": "8faecb95",
        "outputId": "28b89036-056c-4eaf-f0c8-eb7c1412810c"
      },
      "outputs": [
        {
          "data": {
            "text/plain": [
              "<1x11396 sparse matrix of type '<class 'numpy.int64'>'\n",
              "\twith 7 stored elements in Compressed Sparse Row format>"
            ]
          },
          "execution_count": 41,
          "metadata": {},
          "output_type": "execute_result"
        }
      ],
      "source": [
        "bow4"
      ]
    },
    {
      "cell_type": "code",
      "execution_count": null,
      "id": "539e3a8c",
      "metadata": {
        "id": "539e3a8c",
        "outputId": "ab63b132-2659-4977-f877-51ae5fff9562"
      },
      "outputs": [
        {
          "data": {
            "text/plain": [
              "array([[0, 0, 0, ..., 0, 0, 0]], dtype=int64)"
            ]
          },
          "execution_count": 42,
          "metadata": {},
          "output_type": "execute_result"
        }
      ],
      "source": [
        "bow4.toarray()"
      ]
    },
    {
      "cell_type": "code",
      "execution_count": null,
      "id": "2d2f5881",
      "metadata": {
        "id": "2d2f5881"
      },
      "outputs": [],
      "source": [
        "message_bow = bow_transformer.transform(message['message'])"
      ]
    },
    {
      "cell_type": "code",
      "execution_count": null,
      "id": "f4dc046d",
      "metadata": {
        "id": "f4dc046d",
        "outputId": "f7b14aff-6ece-47bd-d8aa-5fba0522927b"
      },
      "outputs": [
        {
          "data": {
            "text/plain": [
              "(5572, 11396)"
            ]
          },
          "execution_count": 44,
          "metadata": {},
          "output_type": "execute_result"
        }
      ],
      "source": [
        "message_bow.shape"
      ]
    },
    {
      "cell_type": "code",
      "execution_count": null,
      "id": "8ab3f75e",
      "metadata": {
        "id": "8ab3f75e",
        "outputId": "e5a7fac4-9a93-4de1-bb7d-d4e108a60f93"
      },
      "outputs": [
        {
          "data": {
            "text/plain": [
              "array([[0, 0, 0, ..., 0, 0, 0],\n",
              "       [0, 0, 0, ..., 0, 0, 0],\n",
              "       [0, 0, 0, ..., 0, 0, 0],\n",
              "       ...,\n",
              "       [0, 0, 0, ..., 0, 0, 0],\n",
              "       [0, 0, 0, ..., 0, 0, 0],\n",
              "       [0, 0, 0, ..., 0, 0, 0]], dtype=int64)"
            ]
          },
          "execution_count": 45,
          "metadata": {},
          "output_type": "execute_result"
        }
      ],
      "source": [
        "message_bow.toarray()"
      ]
    },
    {
      "cell_type": "code",
      "execution_count": null,
      "id": "66d8dc0f",
      "metadata": {
        "id": "66d8dc0f"
      },
      "outputs": [],
      "source": [
        "from sklearn.feature_extraction.text import TfidfTransformer"
      ]
    },
    {
      "cell_type": "code",
      "execution_count": null,
      "id": "15f14bd5",
      "metadata": {
        "id": "15f14bd5"
      },
      "outputs": [],
      "source": [
        "Tfidf_transformer = TfidfTransformer().fit(message_bow)"
      ]
    },
    {
      "cell_type": "code",
      "execution_count": null,
      "id": "463dac80",
      "metadata": {
        "id": "463dac80",
        "outputId": "f54e520b-f6cb-4f9c-914e-65c453b61c07"
      },
      "outputs": [
        {
          "data": {
            "text/plain": [
              "TfidfTransformer()"
            ]
          },
          "execution_count": 48,
          "metadata": {},
          "output_type": "execute_result"
        }
      ],
      "source": [
        "Tfidf_transformer"
      ]
    },
    {
      "cell_type": "code",
      "execution_count": null,
      "id": "2870c460",
      "metadata": {
        "id": "2870c460"
      },
      "outputs": [],
      "source": [
        "tfidf4=Tfidf_transformer.transform(bow4)"
      ]
    },
    {
      "cell_type": "code",
      "execution_count": null,
      "id": "19e85f38",
      "metadata": {
        "id": "19e85f38",
        "outputId": "b245a2fa-3e1e-496a-e3f4-cff8e5d80535"
      },
      "outputs": [
        {
          "data": {
            "text/plain": [
              "<1x11396 sparse matrix of type '<class 'numpy.float64'>'\n",
              "\twith 7 stored elements in Compressed Sparse Row format>"
            ]
          },
          "execution_count": 51,
          "metadata": {},
          "output_type": "execute_result"
        }
      ],
      "source": [
        "tfidf4"
      ]
    },
    {
      "cell_type": "code",
      "execution_count": null,
      "id": "1533cdf9",
      "metadata": {
        "id": "1533cdf9",
        "outputId": "332c6f33-88b4-4e17-94ab-05d8d7997161"
      },
      "outputs": [
        {
          "data": {
            "text/plain": [
              "array([[0., 0., 0., ..., 0., 0., 0.]])"
            ]
          },
          "execution_count": 52,
          "metadata": {},
          "output_type": "execute_result"
        }
      ],
      "source": [
        "tfidf4.toarray()"
      ]
    },
    {
      "cell_type": "code",
      "execution_count": null,
      "id": "aee030ee",
      "metadata": {
        "id": "aee030ee"
      },
      "outputs": [],
      "source": [
        "from sklearn.naive_bayes import MultinomialNB\n",
        "from sklearn.ensemble import RandomForestClassifier"
      ]
    },
    {
      "cell_type": "code",
      "execution_count": null,
      "id": "8ddacd71",
      "metadata": {
        "id": "8ddacd71"
      },
      "outputs": [],
      "source": [
        "message_tfidf = Tfidf_transformer.transform(message_bow)"
      ]
    },
    {
      "cell_type": "code",
      "execution_count": null,
      "id": "af9aaf56",
      "metadata": {
        "id": "af9aaf56",
        "outputId": "74a5a896-193d-4685-dcf2-fa0ac508cc00"
      },
      "outputs": [
        {
          "data": {
            "text/plain": [
              "<5572x11396 sparse matrix of type '<class 'numpy.float64'>'\n",
              "\twith 50529 stored elements in Compressed Sparse Row format>"
            ]
          },
          "execution_count": 62,
          "metadata": {},
          "output_type": "execute_result"
        }
      ],
      "source": [
        "message_tfidf"
      ]
    },
    {
      "cell_type": "code",
      "execution_count": null,
      "id": "faf7a9d8",
      "metadata": {
        "id": "faf7a9d8"
      },
      "outputs": [],
      "source": [
        "spam_detection_model = MultinomialNB().fit(message_tfidf,message['label'])"
      ]
    },
    {
      "cell_type": "code",
      "execution_count": null,
      "id": "baaf92d7",
      "metadata": {
        "id": "baaf92d7",
        "outputId": "e97539aa-2f3b-4986-deea-e1a96231b124"
      },
      "outputs": [
        {
          "data": {
            "text/plain": [
              "0.9793610911701364"
            ]
          },
          "execution_count": 65,
          "metadata": {},
          "output_type": "execute_result"
        }
      ],
      "source": [
        "spam_detection_model.score(message_tfidf,message['label'])"
      ]
    },
    {
      "cell_type": "code",
      "execution_count": null,
      "id": "3b7659db",
      "metadata": {
        "id": "3b7659db"
      },
      "outputs": [],
      "source": [
        "from sklearn.model_selection import train_test_split"
      ]
    },
    {
      "cell_type": "code",
      "execution_count": null,
      "id": "b0528c08",
      "metadata": {
        "id": "b0528c08"
      },
      "outputs": [],
      "source": [
        "msg_train, msg_test, label_train, label_test = train_test_split(message['message'], message['label'],test_size=0.3)"
      ]
    },
    {
      "cell_type": "code",
      "execution_count": null,
      "id": "5c875dcb",
      "metadata": {
        "id": "5c875dcb",
        "outputId": "cf356574-b88d-4325-8d50-ca7f49a54d91"
      },
      "outputs": [
        {
          "data": {
            "text/plain": [
              "(3900,)"
            ]
          },
          "execution_count": 70,
          "metadata": {},
          "output_type": "execute_result"
        }
      ],
      "source": [
        "msg_train.shape"
      ]
    },
    {
      "cell_type": "code",
      "execution_count": null,
      "id": "d5ebd6cb",
      "metadata": {
        "id": "d5ebd6cb",
        "outputId": "0762d246-781c-441f-ae30-f9421c5e20c1"
      },
      "outputs": [
        {
          "data": {
            "text/plain": [
              "(1672,)"
            ]
          },
          "execution_count": 71,
          "metadata": {},
          "output_type": "execute_result"
        }
      ],
      "source": [
        "msg_test.shape"
      ]
    },
    {
      "cell_type": "code",
      "execution_count": null,
      "id": "91aea3cc",
      "metadata": {
        "id": "91aea3cc",
        "outputId": "28bde16c-45d7-44af-f25f-a1565a32a07a"
      },
      "outputs": [
        {
          "data": {
            "text/plain": [
              "(3900,)"
            ]
          },
          "execution_count": 72,
          "metadata": {},
          "output_type": "execute_result"
        }
      ],
      "source": [
        "label_train.shape"
      ]
    },
    {
      "cell_type": "code",
      "execution_count": null,
      "id": "b1b3f27a",
      "metadata": {
        "id": "b1b3f27a",
        "outputId": "e339151a-6554-4808-ec60-4628629aaeee"
      },
      "outputs": [
        {
          "data": {
            "text/plain": [
              "(1672,)"
            ]
          },
          "execution_count": 73,
          "metadata": {},
          "output_type": "execute_result"
        }
      ],
      "source": [
        "label_test.shape"
      ]
    },
    {
      "cell_type": "code",
      "execution_count": null,
      "id": "fd92946b",
      "metadata": {
        "id": "fd92946b"
      },
      "outputs": [],
      "source": [
        "from sklearn.pipeline import Pipeline"
      ]
    },
    {
      "cell_type": "code",
      "execution_count": null,
      "id": "52592fe6",
      "metadata": {
        "id": "52592fe6"
      },
      "outputs": [],
      "source": [
        "pipeline = Pipeline ([\n",
        "    ('bow', CountVectorizer(analyzer=text_process)),\n",
        "    ('tfidf', TfidfTransformer()),\n",
        "    ('classifier',RandomForestClassifier(n_estimators=10))\n",
        "])"
      ]
    },
    {
      "cell_type": "code",
      "execution_count": null,
      "id": "9b93b0df",
      "metadata": {
        "id": "9b93b0df",
        "outputId": "cf68c186-4132-4eb8-9235-b962faba5541"
      },
      "outputs": [
        {
          "data": {
            "text/plain": [
              "Pipeline(steps=[('bow',\n",
              "                 CountVectorizer(analyzer=<function text_process at 0x0000022671B82620>)),\n",
              "                ('tfidf', TfidfTransformer()),\n",
              "                ('classifier', RandomForestClassifier(n_estimators=10))])"
            ]
          },
          "execution_count": 83,
          "metadata": {},
          "output_type": "execute_result"
        }
      ],
      "source": [
        "pipeline.fit(msg_train,label_train)"
      ]
    },
    {
      "cell_type": "code",
      "execution_count": null,
      "id": "1b432854",
      "metadata": {
        "id": "1b432854"
      },
      "outputs": [],
      "source": [
        "predictions = pipeline.predict(msg_test)"
      ]
    },
    {
      "cell_type": "code",
      "execution_count": null,
      "id": "2d434e22",
      "metadata": {
        "id": "2d434e22",
        "outputId": "850f0401-2db0-4274-9378-d904101a7b9d"
      },
      "outputs": [
        {
          "data": {
            "text/plain": [
              "array(['ham', 'ham', 'ham', ..., 'ham', 'ham', 'ham'], dtype=object)"
            ]
          },
          "execution_count": 85,
          "metadata": {},
          "output_type": "execute_result"
        }
      ],
      "source": [
        "predictions"
      ]
    },
    {
      "cell_type": "code",
      "execution_count": null,
      "id": "073440fa",
      "metadata": {
        "id": "073440fa"
      },
      "outputs": [],
      "source": [
        "from sklearn.metrics import confusion_matrix"
      ]
    },
    {
      "cell_type": "code",
      "execution_count": null,
      "id": "79322678",
      "metadata": {
        "id": "79322678",
        "outputId": "f68918b7-167b-47b7-ebf6-cccc7c5e548c"
      },
      "outputs": [
        {
          "name": "stdout",
          "output_type": "stream",
          "text": [
            "[[1431    2]\n",
            " [  63  176]]\n"
          ]
        }
      ],
      "source": [
        "print(confusion_matrix(label_test,predictions))"
      ]
    },
    {
      "cell_type": "code",
      "execution_count": null,
      "id": "8ee03526",
      "metadata": {
        "id": "8ee03526"
      },
      "outputs": [],
      "source": [
        "from sklearn.metrics import classification_report"
      ]
    },
    {
      "cell_type": "code",
      "execution_count": null,
      "id": "26421fac",
      "metadata": {
        "id": "26421fac",
        "outputId": "c572c4e7-cea4-4f02-aac3-e3e004f020ab"
      },
      "outputs": [
        {
          "name": "stdout",
          "output_type": "stream",
          "text": [
            "              precision    recall  f1-score   support\n",
            "\n",
            "         ham       0.96      1.00      0.98      1433\n",
            "        spam       0.99      0.74      0.84       239\n",
            "\n",
            "    accuracy                           0.96      1672\n",
            "   macro avg       0.97      0.87      0.91      1672\n",
            "weighted avg       0.96      0.96      0.96      1672\n",
            "\n"
          ]
        }
      ],
      "source": [
        "print(classification_report(label_test,predictions))"
      ]
    },
    {
      "cell_type": "code",
      "execution_count": null,
      "id": "75a1b1d7",
      "metadata": {
        "id": "75a1b1d7"
      },
      "outputs": [],
      "source": [
        ""
      ]
    }
  ],
  "metadata": {
    "kernelspec": {
      "display_name": "Python 3",
      "language": "python",
      "name": "python3"
    },
    "language_info": {
      "codemirror_mode": {
        "name": "ipython",
        "version": 3
      },
      "file_extension": ".py",
      "mimetype": "text/x-python",
      "name": "python",
      "nbconvert_exporter": "python",
      "pygments_lexer": "ipython3",
      "version": "3.6.13"
    },
    "colab": {
      "name": "01_03_spam_ham.ipynb",
      "provenance": []
    }
  },
  "nbformat": 4,
  "nbformat_minor": 5
}