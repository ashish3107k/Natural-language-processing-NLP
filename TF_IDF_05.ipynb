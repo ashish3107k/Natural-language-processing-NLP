{
  "cells": [
    {
      "cell_type": "code",
      "execution_count": null,
      "id": "e14a8bbc",
      "metadata": {
        "id": "e14a8bbc"
      },
      "outputs": [],
      "source": [
        "paragraph = \"\"\"'Thank you all so very much. Thank you to the Academy. Thank you to all of you in this room. I have to congratulate the other incredible nominees this year. The Revenant was the product of the tireless efforts of an unbelievable cast and crew. First off, to my brother in this endeavor, Mr. Tom Hardy. Tom, your talent on screen can only be surpassed by your friendship off screen … thank you for creating a transcendent cinematic experience. Thank you to everybody at Fox and New Regency … my entire team. I have to thank everyone from the very onset of my career … To my parents; none of this would be possible without you. And to my friends, I love you dearly; you know who you are.'\"\"\""
      ]
    },
    {
      "cell_type": "code",
      "execution_count": null,
      "id": "562a3b4d",
      "metadata": {
        "id": "562a3b4d",
        "outputId": "57869e3d-6e8e-4dcc-9f3e-7a8171830d14"
      },
      "outputs": [
        {
          "data": {
            "text/plain": [
              "\"'Thank you all so very much. Thank you to the Academy. Thank you to all of you in this room. I have to congratulate the other incredible nominees this year. The Revenant was the product of the tireless efforts of an unbelievable cast and crew. First off, to my brother in this endeavor, Mr. Tom Hardy. Tom, your talent on screen can only be surpassed by your friendship off screen … thank you for creating a transcendent cinematic experience. Thank you to everybody at Fox and New Regency … my entire team. I have to thank everyone from the very onset of my career … To my parents; none of this would be possible without you. And to my friends, I love you dearly; you know who you are.'\""
            ]
          },
          "execution_count": 2,
          "metadata": {},
          "output_type": "execute_result"
        }
      ],
      "source": [
        "paragraph"
      ]
    },
    {
      "cell_type": "code",
      "execution_count": null,
      "id": "1a063bbb",
      "metadata": {
        "id": "1a063bbb"
      },
      "outputs": [],
      "source": [
        "import re\n",
        "import nltk"
      ]
    },
    {
      "cell_type": "code",
      "execution_count": null,
      "id": "f134dd4a",
      "metadata": {
        "id": "f134dd4a"
      },
      "outputs": [],
      "source": [
        "dataset = nltk.sent_tokenize(paragraph)"
      ]
    },
    {
      "cell_type": "code",
      "execution_count": null,
      "id": "bb215beb",
      "metadata": {
        "id": "bb215beb",
        "outputId": "6e10d063-677c-48f4-a493-1afc49276b79"
      },
      "outputs": [
        {
          "data": {
            "text/plain": [
              "[\"'Thank you all so very much.\",\n",
              " 'Thank you to the Academy.',\n",
              " 'Thank you to all of you in this room.',\n",
              " 'I have to congratulate the other incredible nominees this year.',\n",
              " 'The Revenant was the product of the tireless efforts of an unbelievable cast and crew.',\n",
              " 'First off, to my brother in this endeavor, Mr. Tom Hardy.',\n",
              " 'Tom, your talent on screen can only be surpassed by your friendship off screen … thank you for creating a transcendent cinematic experience.',\n",
              " 'Thank you to everybody at Fox and New Regency … my entire team.',\n",
              " 'I have to thank everyone from the very onset of my career … To my parents; none of this would be possible without you.',\n",
              " \"And to my friends, I love you dearly; you know who you are.'\"]"
            ]
          },
          "execution_count": 5,
          "metadata": {},
          "output_type": "execute_result"
        }
      ],
      "source": [
        "dataset"
      ]
    },
    {
      "cell_type": "code",
      "execution_count": null,
      "id": "fe3db84d",
      "metadata": {
        "id": "fe3db84d",
        "outputId": "3cd0923e-3120-43fc-db96-203170ed9afb"
      },
      "outputs": [
        {
          "data": {
            "text/plain": [
              "10"
            ]
          },
          "execution_count": 6,
          "metadata": {},
          "output_type": "execute_result"
        }
      ],
      "source": [
        "len(dataset)"
      ]
    },
    {
      "cell_type": "code",
      "execution_count": null,
      "id": "0b0c1d1c",
      "metadata": {
        "id": "0b0c1d1c"
      },
      "outputs": [],
      "source": [
        "for i in range(len(dataset)):\n",
        "    dataset[i] = dataset[i].lower()\n",
        "    dataset[i] = re.sub(r'\\W',' ',dataset[i])\n",
        "    dataset[i] = re.sub(r'\\s+',' ',dataset[i])\n",
        "    dataset[i] = re.sub(r'^\\s+|\\s+$','',dataset[i])\n",
        "    \n",
        "        "
      ]
    },
    {
      "cell_type": "code",
      "execution_count": null,
      "id": "5c32928e",
      "metadata": {
        "id": "5c32928e",
        "outputId": "3d43d512-6486-41aa-eb91-bbde3e9124a0"
      },
      "outputs": [
        {
          "data": {
            "text/plain": [
              "['thank you all so very much',\n",
              " 'thank you to the academy',\n",
              " 'thank you to all of you in this room',\n",
              " 'i have to congratulate the other incredible nominees this year',\n",
              " 'the revenant was the product of the tireless efforts of an unbelievable cast and crew',\n",
              " 'first off to my brother in this endeavor mr tom hardy',\n",
              " 'tom your talent on screen can only be surpassed by your friendship off screen thank you for creating a transcendent cinematic experience',\n",
              " 'thank you to everybody at fox and new regency my entire team',\n",
              " 'i have to thank everyone from the very onset of my career to my parents none of this would be possible without you',\n",
              " 'and to my friends i love you dearly you know who you are']"
            ]
          },
          "execution_count": 8,
          "metadata": {},
          "output_type": "execute_result"
        }
      ],
      "source": [
        "dataset"
      ]
    },
    {
      "cell_type": "code",
      "execution_count": null,
      "id": "7d6db7e2",
      "metadata": {
        "id": "7d6db7e2"
      },
      "outputs": [],
      "source": [
        "word2count = {}\n",
        "for data in dataset:\n",
        "    words = nltk.word_tokenize(data)\n",
        "    for word in words:\n",
        "        if word not in word2count.keys():\n",
        "            word2count[word] = 1\n",
        "        else:\n",
        "            word2count[word] += 1"
      ]
    },
    {
      "cell_type": "code",
      "execution_count": null,
      "id": "bc0fa936",
      "metadata": {
        "id": "bc0fa936",
        "outputId": "4c07dab2-629e-4771-a5f1-d7aa63589671"
      },
      "outputs": [
        {
          "data": {
            "text/plain": [
              "{'thank': 6,\n",
              " 'you': 10,\n",
              " 'all': 2,\n",
              " 'so': 1,\n",
              " 'very': 2,\n",
              " 'much': 1,\n",
              " 'to': 8,\n",
              " 'the': 6,\n",
              " 'academy': 1,\n",
              " 'of': 5,\n",
              " 'in': 2,\n",
              " 'this': 4,\n",
              " 'room': 1,\n",
              " 'i': 3,\n",
              " 'have': 2,\n",
              " 'congratulate': 1,\n",
              " 'other': 1,\n",
              " 'incredible': 1,\n",
              " 'nominees': 1,\n",
              " 'year': 1,\n",
              " 'revenant': 1,\n",
              " 'was': 1,\n",
              " 'product': 1,\n",
              " 'tireless': 1,\n",
              " 'efforts': 1,\n",
              " 'an': 1,\n",
              " 'unbelievable': 1,\n",
              " 'cast': 1,\n",
              " 'and': 3,\n",
              " 'crew': 1,\n",
              " 'first': 1,\n",
              " 'off': 2,\n",
              " 'my': 5,\n",
              " 'brother': 1,\n",
              " 'endeavor': 1,\n",
              " 'mr': 1,\n",
              " 'tom': 2,\n",
              " 'hardy': 1,\n",
              " 'your': 2,\n",
              " 'talent': 1,\n",
              " 'on': 1,\n",
              " 'screen': 2,\n",
              " 'can': 1,\n",
              " 'only': 1,\n",
              " 'be': 2,\n",
              " 'surpassed': 1,\n",
              " 'by': 1,\n",
              " 'friendship': 1,\n",
              " 'for': 1,\n",
              " 'creating': 1,\n",
              " 'a': 1,\n",
              " 'transcendent': 1,\n",
              " 'cinematic': 1,\n",
              " 'experience': 1,\n",
              " 'everybody': 1,\n",
              " 'at': 1,\n",
              " 'fox': 1,\n",
              " 'new': 1,\n",
              " 'regency': 1,\n",
              " 'entire': 1,\n",
              " 'team': 1,\n",
              " 'everyone': 1,\n",
              " 'from': 1,\n",
              " 'onset': 1,\n",
              " 'career': 1,\n",
              " 'parents': 1,\n",
              " 'none': 1,\n",
              " 'would': 1,\n",
              " 'possible': 1,\n",
              " 'without': 1,\n",
              " 'friends': 1,\n",
              " 'love': 1,\n",
              " 'dearly': 1,\n",
              " 'know': 1,\n",
              " 'who': 1,\n",
              " 'are': 1}"
            ]
          },
          "execution_count": 10,
          "metadata": {},
          "output_type": "execute_result"
        }
      ],
      "source": [
        "word2count"
      ]
    },
    {
      "cell_type": "code",
      "execution_count": null,
      "id": "6369545e",
      "metadata": {
        "id": "6369545e"
      },
      "outputs": [],
      "source": [
        "import heapq"
      ]
    },
    {
      "cell_type": "code",
      "execution_count": null,
      "id": "d007ddb2",
      "metadata": {
        "id": "d007ddb2"
      },
      "outputs": [],
      "source": [
        "freq_words = heapq.nlargest(12,word2count, key=word2count.get)"
      ]
    },
    {
      "cell_type": "code",
      "execution_count": null,
      "id": "8335a4bc",
      "metadata": {
        "id": "8335a4bc",
        "outputId": "81594649-7c6d-4b85-e087-7cc8605d2081"
      },
      "outputs": [
        {
          "data": {
            "text/plain": [
              "['you',\n",
              " 'to',\n",
              " 'thank',\n",
              " 'the',\n",
              " 'of',\n",
              " 'my',\n",
              " 'this',\n",
              " 'i',\n",
              " 'and',\n",
              " 'all',\n",
              " 'very',\n",
              " 'in']"
            ]
          },
          "execution_count": 13,
          "metadata": {},
          "output_type": "execute_result"
        }
      ],
      "source": [
        "freq_words"
      ]
    },
    {
      "cell_type": "code",
      "execution_count": null,
      "id": "100ad7d5",
      "metadata": {
        "id": "100ad7d5",
        "outputId": "a09cb90e-1a9d-4e55-ec70-268102134849"
      },
      "outputs": [
        {
          "data": {
            "text/plain": [
              "12"
            ]
          },
          "execution_count": 14,
          "metadata": {},
          "output_type": "execute_result"
        }
      ],
      "source": [
        "len(freq_words)"
      ]
    },
    {
      "cell_type": "code",
      "execution_count": null,
      "id": "703467bc",
      "metadata": {
        "id": "703467bc"
      },
      "outputs": [],
      "source": [
        "#IDF matrix"
      ]
    },
    {
      "cell_type": "code",
      "execution_count": null,
      "id": "263922b4",
      "metadata": {
        "id": "263922b4"
      },
      "outputs": [],
      "source": [
        "import numpy as np"
      ]
    },
    {
      "cell_type": "code",
      "execution_count": null,
      "id": "1b9e1304",
      "metadata": {
        "id": "1b9e1304"
      },
      "outputs": [],
      "source": [
        "word_idfs = {}\n",
        "for word in freq_words:\n",
        "    doc_count = 0\n",
        "    for data in dataset:\n",
        "        if word in nltk.word_tokenize(data):\n",
        "            doc_count+=1\n",
        "    word_idfs[word]=  np.log((len(dataset)/doc_count))+1\n",
        "        "
      ]
    },
    {
      "cell_type": "code",
      "execution_count": null,
      "id": "45a7a65e",
      "metadata": {
        "id": "45a7a65e",
        "outputId": "046d7f92-b47f-4774-97a6-b64ca2503766"
      },
      "outputs": [
        {
          "data": {
            "text/plain": [
              "{'you': 1.3566749439387324,\n",
              " 'to': 1.3566749439387324,\n",
              " 'thank': 1.5108256237659907,\n",
              " 'the': 1.916290731874155,\n",
              " 'of': 2.203972804325936,\n",
              " 'my': 1.916290731874155,\n",
              " 'this': 1.916290731874155,\n",
              " 'i': 2.203972804325936,\n",
              " 'and': 2.203972804325936,\n",
              " 'all': 2.6094379124341005,\n",
              " 'very': 2.6094379124341005,\n",
              " 'in': 2.6094379124341005}"
            ]
          },
          "execution_count": 18,
          "metadata": {},
          "output_type": "execute_result"
        }
      ],
      "source": [
        "word_idfs"
      ]
    },
    {
      "cell_type": "code",
      "execution_count": null,
      "id": "474d59f4",
      "metadata": {
        "id": "474d59f4",
        "outputId": "3c085c35-bf20-4040-9e26-ef6e24870fbb"
      },
      "outputs": [
        {
          "data": {
            "text/plain": [
              "2"
            ]
          },
          "execution_count": 19,
          "metadata": {},
          "output_type": "execute_result"
        }
      ],
      "source": [
        "doc_count"
      ]
    },
    {
      "cell_type": "code",
      "execution_count": null,
      "id": "b4ca5929",
      "metadata": {
        "id": "b4ca5929"
      },
      "outputs": [],
      "source": [
        "#TF"
      ]
    },
    {
      "cell_type": "code",
      "execution_count": null,
      "id": "7c3fdf30",
      "metadata": {
        "id": "7c3fdf30"
      },
      "outputs": [],
      "source": [
        "tf_matrix = {}\n",
        "for word in freq_words:\n",
        "    doc_tf = []\n",
        "    for data in dataset:\n",
        "        frequency = 0\n",
        "        for w in nltk.word_tokenize(data):\n",
        "            if w == word:\n",
        "                frequency += 1\n",
        "        tf_word = frequency/len(nltk.word_tokenize(data))\n",
        "        doc_tf.append(tf_word)\n",
        "    tf_matrix[word] = doc_tf"
      ]
    },
    {
      "cell_type": "code",
      "execution_count": null,
      "id": "85d54d92",
      "metadata": {
        "id": "85d54d92",
        "outputId": "b8f734f5-db30-469f-f8c7-1c6729b38c43"
      },
      "outputs": [
        {
          "data": {
            "text/plain": [
              "{'you': [0.16666666666666666,\n",
              "  0.2,\n",
              "  0.2222222222222222,\n",
              "  0.0,\n",
              "  0.0,\n",
              "  0.0,\n",
              "  0.045454545454545456,\n",
              "  0.08333333333333333,\n",
              "  0.043478260869565216,\n",
              "  0.23076923076923078],\n",
              " 'to': [0.0,\n",
              "  0.2,\n",
              "  0.1111111111111111,\n",
              "  0.1,\n",
              "  0.0,\n",
              "  0.09090909090909091,\n",
              "  0.0,\n",
              "  0.08333333333333333,\n",
              "  0.08695652173913043,\n",
              "  0.07692307692307693],\n",
              " 'thank': [0.16666666666666666,\n",
              "  0.2,\n",
              "  0.1111111111111111,\n",
              "  0.0,\n",
              "  0.0,\n",
              "  0.0,\n",
              "  0.045454545454545456,\n",
              "  0.08333333333333333,\n",
              "  0.043478260869565216,\n",
              "  0.0],\n",
              " 'the': [0.0, 0.2, 0.0, 0.1, 0.2, 0.0, 0.0, 0.0, 0.043478260869565216, 0.0],\n",
              " 'of': [0.0,\n",
              "  0.0,\n",
              "  0.1111111111111111,\n",
              "  0.0,\n",
              "  0.13333333333333333,\n",
              "  0.0,\n",
              "  0.0,\n",
              "  0.0,\n",
              "  0.08695652173913043,\n",
              "  0.0],\n",
              " 'my': [0.0,\n",
              "  0.0,\n",
              "  0.0,\n",
              "  0.0,\n",
              "  0.0,\n",
              "  0.09090909090909091,\n",
              "  0.0,\n",
              "  0.08333333333333333,\n",
              "  0.08695652173913043,\n",
              "  0.07692307692307693],\n",
              " 'this': [0.0,\n",
              "  0.0,\n",
              "  0.1111111111111111,\n",
              "  0.1,\n",
              "  0.0,\n",
              "  0.09090909090909091,\n",
              "  0.0,\n",
              "  0.0,\n",
              "  0.043478260869565216,\n",
              "  0.0],\n",
              " 'i': [0.0,\n",
              "  0.0,\n",
              "  0.0,\n",
              "  0.1,\n",
              "  0.0,\n",
              "  0.0,\n",
              "  0.0,\n",
              "  0.0,\n",
              "  0.043478260869565216,\n",
              "  0.07692307692307693],\n",
              " 'and': [0.0,\n",
              "  0.0,\n",
              "  0.0,\n",
              "  0.0,\n",
              "  0.06666666666666667,\n",
              "  0.0,\n",
              "  0.0,\n",
              "  0.08333333333333333,\n",
              "  0.0,\n",
              "  0.07692307692307693],\n",
              " 'all': [0.16666666666666666,\n",
              "  0.0,\n",
              "  0.1111111111111111,\n",
              "  0.0,\n",
              "  0.0,\n",
              "  0.0,\n",
              "  0.0,\n",
              "  0.0,\n",
              "  0.0,\n",
              "  0.0],\n",
              " 'very': [0.16666666666666666,\n",
              "  0.0,\n",
              "  0.0,\n",
              "  0.0,\n",
              "  0.0,\n",
              "  0.0,\n",
              "  0.0,\n",
              "  0.0,\n",
              "  0.043478260869565216,\n",
              "  0.0],\n",
              " 'in': [0.0,\n",
              "  0.0,\n",
              "  0.1111111111111111,\n",
              "  0.0,\n",
              "  0.0,\n",
              "  0.09090909090909091,\n",
              "  0.0,\n",
              "  0.0,\n",
              "  0.0,\n",
              "  0.0]}"
            ]
          },
          "execution_count": 22,
          "metadata": {},
          "output_type": "execute_result"
        }
      ],
      "source": [
        "tf_matrix"
      ]
    },
    {
      "cell_type": "code",
      "execution_count": null,
      "id": "473f5f9f",
      "metadata": {
        "id": "473f5f9f"
      },
      "outputs": [],
      "source": [
        "#TF-IDF"
      ]
    },
    {
      "cell_type": "code",
      "execution_count": null,
      "id": "a219e59d",
      "metadata": {
        "id": "a219e59d"
      },
      "outputs": [],
      "source": [
        "  tfidf_matrix = []\n",
        "for word in tf_matrix.keys():\n",
        "    tfidf = []\n",
        "    for value in tf_matrix[word]:\n",
        "        score = value*word_idfs[word]\n",
        "        tfidf.append(score)\n",
        "    tfidf_matrix.append(tfidf)\n",
        "        "
      ]
    },
    {
      "cell_type": "code",
      "execution_count": null,
      "id": "2a1aa37e",
      "metadata": {
        "id": "2a1aa37e",
        "outputId": "be01bd36-4041-4e03-ec44-847027071dab"
      },
      "outputs": [
        {
          "data": {
            "text/plain": [
              "[[0.2261124906564554,\n",
              "  0.2713349887877465,\n",
              "  0.30148332087527385,\n",
              "  0.0,\n",
              "  0.0,\n",
              "  0.0,\n",
              "  0.06166704290630602,\n",
              "  0.1130562453282277,\n",
              "  0.05898586712777097,\n",
              "  0.3130788332166306],\n",
              " [0.0,\n",
              "  0.2713349887877465,\n",
              "  0.15074166043763693,\n",
              "  0.13566749439387324,\n",
              "  0.0,\n",
              "  0.12333408581261204,\n",
              "  0.0,\n",
              "  0.1130562453282277,\n",
              "  0.11797173425554194,\n",
              "  0.10435961107221019],\n",
              " [0.2518042706276651,\n",
              "  0.3021651247531982,\n",
              "  0.16786951375177675,\n",
              "  0.0,\n",
              "  0.0,\n",
              "  0.0,\n",
              "  0.06867389198936322,\n",
              "  0.12590213531383254,\n",
              "  0.06568807059852133,\n",
              "  0.0],\n",
              " [0.0,\n",
              "  0.383258146374831,\n",
              "  0.0,\n",
              "  0.1916290731874155,\n",
              "  0.383258146374831,\n",
              "  0.0,\n",
              "  0.0,\n",
              "  0.0,\n",
              "  0.08331698834235457,\n",
              "  0.0],\n",
              " [0.0,\n",
              "  0.0,\n",
              "  0.24488586714732619,\n",
              "  0.0,\n",
              "  0.29386304057679147,\n",
              "  0.0,\n",
              "  0.0,\n",
              "  0.0,\n",
              "  0.1916498090718205,\n",
              "  0.0],\n",
              " [0.0,\n",
              "  0.0,\n",
              "  0.0,\n",
              "  0.0,\n",
              "  0.0,\n",
              "  0.17420824835219592,\n",
              "  0.0,\n",
              "  0.15969089432284625,\n",
              "  0.16663397668470914,\n",
              "  0.14740697937493502],\n",
              " [0.0,\n",
              "  0.0,\n",
              "  0.21292119243046168,\n",
              "  0.1916290731874155,\n",
              "  0.0,\n",
              "  0.17420824835219592,\n",
              "  0.0,\n",
              "  0.0,\n",
              "  0.08331698834235457,\n",
              "  0.0],\n",
              " [0.0,\n",
              "  0.0,\n",
              "  0.0,\n",
              "  0.2203972804325936,\n",
              "  0.0,\n",
              "  0.0,\n",
              "  0.0,\n",
              "  0.0,\n",
              "  0.09582490453591025,\n",
              "  0.16953636956353355],\n",
              " [0.0,\n",
              "  0.0,\n",
              "  0.0,\n",
              "  0.0,\n",
              "  0.14693152028839573,\n",
              "  0.0,\n",
              "  0.0,\n",
              "  0.18366440036049464,\n",
              "  0.0,\n",
              "  0.16953636956353355],\n",
              " [0.43490631873901675,\n",
              "  0.0,\n",
              "  0.28993754582601117,\n",
              "  0.0,\n",
              "  0.0,\n",
              "  0.0,\n",
              "  0.0,\n",
              "  0.0,\n",
              "  0.0,\n",
              "  0.0],\n",
              " [0.43490631873901675,\n",
              "  0.0,\n",
              "  0.0,\n",
              "  0.0,\n",
              "  0.0,\n",
              "  0.0,\n",
              "  0.0,\n",
              "  0.0,\n",
              "  0.1134538222797435,\n",
              "  0.0],\n",
              " [0.0,\n",
              "  0.0,\n",
              "  0.28993754582601117,\n",
              "  0.0,\n",
              "  0.0,\n",
              "  0.23722162840310004,\n",
              "  0.0,\n",
              "  0.0,\n",
              "  0.0,\n",
              "  0.0]]"
            ]
          },
          "execution_count": 25,
          "metadata": {},
          "output_type": "execute_result"
        }
      ],
      "source": [
        "tfidf_matrix"
      ]
    },
    {
      "cell_type": "code",
      "execution_count": null,
      "id": "d7dea79a",
      "metadata": {
        "id": "d7dea79a"
      },
      "outputs": [],
      "source": [
        "x = np.asarray(tfidf_matrix)"
      ]
    },
    {
      "cell_type": "code",
      "execution_count": null,
      "id": "db25d83e",
      "metadata": {
        "id": "db25d83e",
        "outputId": "f8dd0781-7ee7-4ab9-b2d9-f9e89e671647"
      },
      "outputs": [
        {
          "data": {
            "text/plain": [
              "array([[0.22611249, 0.27133499, 0.30148332, 0.        , 0.        ,\n",
              "        0.        , 0.06166704, 0.11305625, 0.05898587, 0.31307883],\n",
              "       [0.        , 0.27133499, 0.15074166, 0.13566749, 0.        ,\n",
              "        0.12333409, 0.        , 0.11305625, 0.11797173, 0.10435961],\n",
              "       [0.25180427, 0.30216512, 0.16786951, 0.        , 0.        ,\n",
              "        0.        , 0.06867389, 0.12590214, 0.06568807, 0.        ],\n",
              "       [0.        , 0.38325815, 0.        , 0.19162907, 0.38325815,\n",
              "        0.        , 0.        , 0.        , 0.08331699, 0.        ],\n",
              "       [0.        , 0.        , 0.24488587, 0.        , 0.29386304,\n",
              "        0.        , 0.        , 0.        , 0.19164981, 0.        ],\n",
              "       [0.        , 0.        , 0.        , 0.        , 0.        ,\n",
              "        0.17420825, 0.        , 0.15969089, 0.16663398, 0.14740698],\n",
              "       [0.        , 0.        , 0.21292119, 0.19162907, 0.        ,\n",
              "        0.17420825, 0.        , 0.        , 0.08331699, 0.        ],\n",
              "       [0.        , 0.        , 0.        , 0.22039728, 0.        ,\n",
              "        0.        , 0.        , 0.        , 0.0958249 , 0.16953637],\n",
              "       [0.        , 0.        , 0.        , 0.        , 0.14693152,\n",
              "        0.        , 0.        , 0.1836644 , 0.        , 0.16953637],\n",
              "       [0.43490632, 0.        , 0.28993755, 0.        , 0.        ,\n",
              "        0.        , 0.        , 0.        , 0.        , 0.        ],\n",
              "       [0.43490632, 0.        , 0.        , 0.        , 0.        ,\n",
              "        0.        , 0.        , 0.        , 0.11345382, 0.        ],\n",
              "       [0.        , 0.        , 0.28993755, 0.        , 0.        ,\n",
              "        0.23722163, 0.        , 0.        , 0.        , 0.        ]])"
            ]
          },
          "execution_count": 28,
          "metadata": {},
          "output_type": "execute_result"
        }
      ],
      "source": [
        "x"
      ]
    },
    {
      "cell_type": "code",
      "execution_count": null,
      "id": "56713ad4",
      "metadata": {
        "id": "56713ad4",
        "outputId": "ee3bc858-92dd-45b1-860b-ca6b6e43eb39"
      },
      "outputs": [
        {
          "data": {
            "text/plain": [
              "(12, 10)"
            ]
          },
          "execution_count": 29,
          "metadata": {},
          "output_type": "execute_result"
        }
      ],
      "source": [
        "x.shape"
      ]
    },
    {
      "cell_type": "code",
      "execution_count": null,
      "id": "d8ad0ab6",
      "metadata": {
        "id": "d8ad0ab6"
      },
      "outputs": [],
      "source": [
        "x = np.transpose(x)"
      ]
    },
    {
      "cell_type": "code",
      "execution_count": null,
      "id": "15d8d77f",
      "metadata": {
        "id": "15d8d77f",
        "outputId": "f370a6b3-9278-4796-a944-a6d278f13720"
      },
      "outputs": [
        {
          "data": {
            "text/plain": [
              "array([[0.22611249, 0.        , 0.25180427, 0.        , 0.        ,\n",
              "        0.        , 0.        , 0.        , 0.        , 0.43490632,\n",
              "        0.43490632, 0.        ],\n",
              "       [0.27133499, 0.27133499, 0.30216512, 0.38325815, 0.        ,\n",
              "        0.        , 0.        , 0.        , 0.        , 0.        ,\n",
              "        0.        , 0.        ],\n",
              "       [0.30148332, 0.15074166, 0.16786951, 0.        , 0.24488587,\n",
              "        0.        , 0.21292119, 0.        , 0.        , 0.28993755,\n",
              "        0.        , 0.28993755],\n",
              "       [0.        , 0.13566749, 0.        , 0.19162907, 0.        ,\n",
              "        0.        , 0.19162907, 0.22039728, 0.        , 0.        ,\n",
              "        0.        , 0.        ],\n",
              "       [0.        , 0.        , 0.        , 0.38325815, 0.29386304,\n",
              "        0.        , 0.        , 0.        , 0.14693152, 0.        ,\n",
              "        0.        , 0.        ],\n",
              "       [0.        , 0.12333409, 0.        , 0.        , 0.        ,\n",
              "        0.17420825, 0.17420825, 0.        , 0.        , 0.        ,\n",
              "        0.        , 0.23722163],\n",
              "       [0.06166704, 0.        , 0.06867389, 0.        , 0.        ,\n",
              "        0.        , 0.        , 0.        , 0.        , 0.        ,\n",
              "        0.        , 0.        ],\n",
              "       [0.11305625, 0.11305625, 0.12590214, 0.        , 0.        ,\n",
              "        0.15969089, 0.        , 0.        , 0.1836644 , 0.        ,\n",
              "        0.        , 0.        ],\n",
              "       [0.05898587, 0.11797173, 0.06568807, 0.08331699, 0.19164981,\n",
              "        0.16663398, 0.08331699, 0.0958249 , 0.        , 0.        ,\n",
              "        0.11345382, 0.        ],\n",
              "       [0.31307883, 0.10435961, 0.        , 0.        , 0.        ,\n",
              "        0.14740698, 0.        , 0.16953637, 0.16953637, 0.        ,\n",
              "        0.        , 0.        ]])"
            ]
          },
          "execution_count": 31,
          "metadata": {},
          "output_type": "execute_result"
        }
      ],
      "source": [
        "x"
      ]
    },
    {
      "cell_type": "code",
      "execution_count": null,
      "id": "7cf210c0",
      "metadata": {
        "id": "7cf210c0"
      },
      "outputs": [],
      "source": [
        ""
      ]
    }
  ],
  "metadata": {
    "kernelspec": {
      "display_name": "Python 3",
      "language": "python",
      "name": "python3"
    },
    "language_info": {
      "codemirror_mode": {
        "name": "ipython",
        "version": 3
      },
      "file_extension": ".py",
      "mimetype": "text/x-python",
      "name": "python",
      "nbconvert_exporter": "python",
      "pygments_lexer": "ipython3",
      "version": "3.6.13"
    },
    "colab": {
      "name": "21_02_TF-IDF.ipynb",
      "provenance": []
    }
  },
  "nbformat": 4,
  "nbformat_minor": 5
}